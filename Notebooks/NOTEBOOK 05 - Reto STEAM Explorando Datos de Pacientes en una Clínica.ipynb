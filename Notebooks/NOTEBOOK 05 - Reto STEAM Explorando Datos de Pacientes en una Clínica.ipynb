{
 "cells": [
  {
   "cell_type": "markdown",
   "metadata": {},
   "source": [
    "# Reto Bootcamp STEAM 🔬💻🎨: Explorando Datos de Pacientes\n",
    "## Fundamentos de Python | UMCA\n",
    "## Profesor: Ing. Andrés Mena Abarca\n",
    "### <mark>**Nombre del estudiante:** Sergio Marin R</mark>\n",
    "* * *"
   ]
  },
  {
   "attachments": {},
   "cell_type": "markdown",
   "metadata": {},
   "source": [
    "## Misión: Científico de Datos Clínicos\n",
    "\n",
    "¡Bienvenidos al reto STEAM! Nuestra misión hoy es construir un sistema de análisis de datos para una clínica, subiendo el nivel de dificultad paso a paso.\n",
    "\n",
    "Comenzaremos con la práctica esencial de **ciclos y listas** y progresaremos hasta el manejo de estructuras de datos complejas (JSON y diccionarios). Si la base es sólida, ¡el análisis avanzado será fácil!\n",
    "\n",
    "### Objetivos de Programación:\n",
    "1. Dominar el uso del ciclo `for` con listas básicas.\n",
    "2. Comprender y cargar el formato **JSON** en Python.\n",
    "3. Implementar **bucles anidados** para datos complejos.\n",
    "4. Aplicar lógica condicional (`if`) y manejo de listas (`.append()`, `.index()`) en todos los niveles."
   ]
  },
  {
   "cell_type": "markdown",
   "metadata": {},
   "source": [
    "--- \n",
    "## FASE 1: Fundamentos de Ciclos y Listas (Nivel Básico) 👶\n",
    "\n",
    "Antes de trabajar con la base de datos completa, vamos a practicar con una simple lista de provincias. Recuerda que un ciclo `for` es una de las herramientas más poderosas de Python."
   ]
  },
  {
   "cell_type": "code",
   "execution_count": 29,
   "metadata": {
    "language": "python"
   },
   "outputs": [],
   "source": [
    "# Datos simples para empezar a practicar ciclos\n",
    "provincias_visitas = [\n",
    "    \"San Jose\",\n",
    "    \"Heredia\",\n",
    "    \"Alajuela\",\n",
    "    \"San Jose\",\n",
    "    \"Cartago\",\n",
    "    \"Heredia\",\n",
    "    \"San Jose\",\n",
    "    \"Puntarenas\",\n",
    "]"
   ]
  },
  {
   "cell_type": "markdown",
   "metadata": {},
   "source": [
    "### Desafío 1.A: Mostrar el Recorrido (Ciclo Simple)\n",
    "\n",
    "**Instrucción:** Usa un ciclo `for` para recorrer la lista `provincias_visitas` e imprime un mensaje por cada provincia.\n",
    "\n",
    "**Salida Esperada (parcial):**\n",
    "```\n",
    "Analizando visita en San Jose\n",
    "Analizando visita en Heredia\n",
    "..."
   ]
  },
  {
   "cell_type": "code",
   "execution_count": 30,
   "metadata": {},
   "outputs": [
    {
     "name": "stdout",
     "output_type": "stream",
     "text": [
      "Visita registrada en la provincia de: San Jose\n",
      "Visita registrada en la provincia de: Heredia\n",
      "Visita registrada en la provincia de: Alajuela\n",
      "Visita registrada en la provincia de: San Jose\n",
      "Visita registrada en la provincia de: Cartago\n",
      "Visita registrada en la provincia de: Heredia\n",
      "Visita registrada en la provincia de: San Jose\n",
      "Visita registrada en la provincia de: Puntarenas\n"
     ]
    }
   ],
   "source": [
    "# Escribe tu código aquí para el Desafío 1.A\n",
    "for provincia in provincias_visitas:\n",
    "    print(f\"Visita registrada en la provincia de: {provincia}\")"
   ]
  },
  {
   "cell_type": "markdown",
   "metadata": {},
   "source": [
    "### Desafío 1.B: Conteo con Condicionales (Ciclo + IF)\n",
    "\n",
    "**Instrucción:** Crea una variable `conteo_san_jose` e inicialízala en cero. Usa el ciclo `for` para recorrer la lista y un condicional `if` para incrementar el contador solo cuando la provincia sea \"San Jose\".\n",
    "\n",
    "**Salida Esperada:**\n",
    "```\n",
    "El número total de visitas en San Jose es: 3\n",
    "```"
   ]
  },
  {
   "cell_type": "code",
   "execution_count": 31,
   "metadata": {},
   "outputs": [
    {
     "name": "stdout",
     "output_type": "stream",
     "text": [
      "Número total de visitas en San Jose: 3\n"
     ]
    }
   ],
   "source": [
    "# Escribe tu código aquí para el Desafío 1.B\n",
    "visitas_san_jose = 0\n",
    "for provincia in provincias_visitas:\n",
    "    if provincia == \"San Jose\":\n",
    "        visitas_san_jose += 1\n",
    "print(f\"Número total de visitas en San Jose: {visitas_san_jose}\")"
   ]
  },
  {
   "cell_type": "markdown",
   "metadata": {},
   "source": [
    "--- \n",
    "## FASE 2: Estructuras Avanzadas (JSON y Diccionarios) 🎓\n",
    "\n",
    "Ahora que dominas los ciclos básicos, vamos a subir al nivel de datos profesionales. Nuestra base de datos está en formato **JSON**.\n",
    "\n",
    "**Recordatorio:** En Python, los objetos JSON se convierten en **Diccionarios** (`{}`) y son la clave para el análisis moderno.\n",
    "**Acceso a datos:** Usarás `paciente['clave']`."
   ]
  },
  {
   "cell_type": "code",
   "execution_count": 32,
   "metadata": {
    "language": "python"
   },
   "outputs": [
    {
     "name": "stdout",
     "output_type": "stream",
     "text": [
      "✅ Archivo 'datos_clinica.json' leído correctamente. ¡Puedes continuar!\n",
      "Datos de pacientes cargados: 15\n"
     ]
    }
   ],
   "source": [
    "import json\n",
    "import os\n",
    "\n",
    "# ¡Asegúrate de tener el archivo 'datos_clinica.json' en la misma carpeta!\n",
    "nombre_archivo = \"datos_clinica.json\"\n",
    "datos_pacientes = []\n",
    "\n",
    "try:\n",
    "    # CODIGO LEER ARCHIVO\n",
    "    with open(nombre_archivo, \"r\", encoding=\"utf-8\") as archivo:\n",
    "        datos_pacientes = json.load(archivo)\n",
    "    print(f\"✅ Archivo '{nombre_archivo}' leído correctamente. ¡Puedes continuar!\")\n",
    "    print(f\"Datos de pacientes cargados: {len(datos_pacientes)}\")\n",
    "    pass\n",
    "except FileNotFoundError:\n",
    "    print(\n",
    "        f\"❌ Error: No se encontró el archivo '{len(datos_pacientes)}'. ¡No puedes continuar!\"\n",
    "    )\n",
    "except Exception as e:\n",
    "    print(f\"❌ Ocurrió un error al leer el archivo: {e}\")"
   ]
  },
  {
   "cell_type": "markdown",
   "metadata": {},
   "source": [
    "### Desafío 2.A: Primer Contacto con Diccionarios\n",
    "\n",
    "**Instrucción:** Usa un ciclo `for` para recorrer los primeros **tres pacientes** de la lista `datos_pacientes`. Por cada paciente, imprime su nombre y edad usando las claves `'nombre'` y `'edad'`.\n",
    "\n",
    "**Pista:** Puedes usar `datos_pacientes[:3]` para limitar la iteración a los primeros tres elementos.\n",
    "\n",
    "**Salida Esperada (parcial):**\n",
    "```\n",
    "Paciente: Ana Gómez, Edad: 34\n",
    "Paciente: Luis Mora, Edad: 45\n",
    "..."
   ]
  },
  {
   "cell_type": "code",
   "execution_count": 33,
   "metadata": {},
   "outputs": [
    {
     "name": "stdout",
     "output_type": "stream",
     "text": [
      "Paciente: Ana Gómez, Edad: 34 años\n",
      "Paciente: Luis Mora, Edad: 45 años\n",
      "Paciente: Sofía Salas, Edad: 29 años\n"
     ]
    }
   ],
   "source": [
    "# Escribe tu código aquí para el Desafío 2.A\n",
    "for paciente in datos_pacientes[:3]:\n",
    "    nomnbre = paciente[\"nombre\"]\n",
    "    edad = paciente[\"edad\"]\n",
    "    print(f\"Paciente: {nomnbre}, Edad: {edad} años\")"
   ]
  },
  {
   "cell_type": "code",
   "execution_count": 34,
   "metadata": {},
   "outputs": [
    {
     "name": "stdout",
     "output_type": "stream",
     "text": [
      "La Paciente: Ana Gómez, Edad: 34 años\n",
      "El Paciente: Luis Mora, Edad: 45 años\n",
      "La Paciente: Sofía Salas, Edad: 29 años\n",
      "El Paciente: Carlos Rojas, Edad: 50 años\n",
      "La Paciente: Elena Castro, Edad: 62 años\n",
      "El Paciente: David Solano, Edad: 38 años\n",
      "La Paciente: Laura Méndez, Edad: 55 años\n",
      "El Paciente: Miguel Pérez, Edad: 22 años\n",
      "La Paciente: Carmen Ruiz, Edad: 48 años\n",
      "El Paciente: Jorge Alfaro, Edad: 70 años\n",
      "La Paciente: Isabel Solís, Edad: 31 años\n",
      "El Paciente: Roberto Arias, Edad: 65 años\n",
      "La Paciente: Patricia Mora, Edad: 28 años\n",
      "El Paciente: Andrés Vargas, Edad: 42 años\n",
      "La Paciente: Gabriela Soto, Edad: 59 años\n"
     ]
    }
   ],
   "source": [
    "# Escribe tu código aquí para el Desafío 2.A\n",
    "for paciente in datos_pacientes:\n",
    "    # nombre = paciente.get(\"nombre\", \"Desconocido\")\n",
    "    # edad = paciente.get(\"edad\", \"Desconocida\")\n",
    "    # genero = paciente.get(\"genero\", \"Desconocido\")\n",
    "    nomnbre = paciente[\"nombre\"]\n",
    "    edad = paciente[\"edad\"]\n",
    "    genero = paciente[\"genero\"]\n",
    "\n",
    "    if genero == \"F\":\n",
    "        print(f\"La Paciente: {nomnbre}, Edad: {edad} años\")\n",
    "    else:\n",
    "        print(f\"El Paciente: {nomnbre}, Edad: {edad} años\")"
   ]
  },
  {
   "cell_type": "markdown",
   "metadata": {},
   "source": [
    "--- \n",
    "## FASE 3: Análisis de Frecuencias (Bucles Anidados) 🔬\n",
    "\n",
    "¡Nivel intermedio! Ahora debes usar tus conocimientos de ciclos y condicionales para contar elementos. La complejidad es que tienes una **Lista de enfermedades dentro de un Diccionario**.\n",
    "\n",
    "**El reto es:** Usar un ciclo `for` para pacientes, y otro ciclo `for` **anidado** para las enfermedades."
   ]
  },
  {
   "attachments": {},
   "cell_type": "markdown",
   "metadata": {
    "language": "python"
   },
   "source": [
    "### Desafío 3.A: Reporte de Enfermedades Tratadas (Doble Ciclo)\n",
    "\n",
    "**Instrucciones:**\n",
    "1. Crea una lista vacía para enfermedades (`lista_enfermedades`) y otra para las cantidades (`lista_cantidades`).\n",
    "2. Usa un ciclo `for` para recorrer cada `paciente`.\n",
    "3. Usa un ciclo `for` **anidado** para recorrer la lista `paciente['enfermedades']`.\n",
    "4. Dentro del ciclo anidado, aplica la lógica de conteo (`if...in`, `.index()`, `+= 1`)."
   ]
  },
  {
   "cell_type": "code",
   "execution_count": 35,
   "metadata": {
    "language": "python"
   },
   "outputs": [
    {
     "name": "stdout",
     "output_type": "stream",
     "text": [
      "['migraña', 'gripe', 'gastritis', 'tos cronica', 'alergia', 'hipertension', 'dolor cronico', 'diabetes tipo 2', 'artritis', 'asma', 'colesterol alto', 'ansiedad']\n",
      "[3, 2, 2, 1, 2, 3, 1, 2, 2, 2, 2, 1]\n",
      "\n",
      "--- Reporte de Frecuencias de Enfermedades ---\n",
      "-> Migraña : 3 pacientes\n",
      "-> Gripe : 2 pacientes\n",
      "-> Gastritis : 2 pacientes\n",
      "-> Tos Cronica : 1 pacientes\n",
      "-> Alergia : 2 pacientes\n",
      "-> Hipertension : 3 pacientes\n",
      "-> Dolor Cronico : 1 pacientes\n",
      "-> Diabetes Tipo 2 : 2 pacientes\n",
      "-> Artritis : 2 pacientes\n",
      "-> Asma : 2 pacientes\n",
      "-> Colesterol Alto : 2 pacientes\n",
      "-> Ansiedad : 1 pacientes\n"
     ]
    }
   ],
   "source": [
    "\n",
    "lista_enfermedades = []\n",
    "# [1,2,3]\n",
    "lista_cantidades = []\n",
    "#Recorrer la lista principal de pacientes\n",
    "for paciente in datos_pacientes:\n",
    "    #print(paciente['enfermedades'])\n",
    "    #Recorro lista de enfermedades dentro de la colección\n",
    "    for medicamento in paciente['enfermedades']:\n",
    "        #print(enfermedad)\n",
    "        if medicamento in lista_enfermedades: \n",
    "            #Aumento las diagnosticos frecuencias\n",
    "            indice = lista_enfermedades.index(medicamento)\n",
    "            lista_cantidades[indice] += 1\n",
    "        else:\n",
    "            #Agregar la enfermedad nueva\n",
    "            lista_enfermedades.append(medicamento)\n",
    "            lista_cantidades.append(1)\n",
    "\n",
    "print(lista_enfermedades)\n",
    "print(lista_cantidades)\n",
    "\n",
    "print('\\n--- Reporte de Frecuencias de Enfermedades ---')\n",
    "for i in range(len(lista_enfermedades)):\n",
    "    print(f'-> {lista_enfermedades[i].title()} : {lista_cantidades[i]} pacientes')"
   ]
  },
  {
   "attachments": {},
   "cell_type": "markdown",
   "metadata": {
    "language": "python"
   },
   "source": [
    "### Desafío 3.B: Reporte de Medicamentos Recetados\n",
    "\n",
    "Repite la lógica del Desafío 3.A, pero esta vez analizando la clave `'medicamentos'`."
   ]
  },
  {
   "cell_type": "code",
   "execution_count": 36,
   "metadata": {
    "language": "python"
   },
   "outputs": [
    {
     "name": "stdout",
     "output_type": "stream",
     "text": [
      "['ibuprofeno', 'omeprazol', 'loratadina', 'losartan', 'tramadol', 'metformina', 'losartan', 'salbutamol', 'atorvastatina', 'losartan', 'fluoxetina', 'ibuprofeno', 'salbutamol', 'omeprazol', 'atorvastatina']\n",
      "[3, 2, 2, 3, 1, 2, 1, 2, 2, 1, 1, 1, 1, 1, 1]\n",
      "\n",
      "--- Reporte de Frecuencias de Enfermedades ---\n",
      "-> Ibuprofeno : 3 pacientes\n",
      "-> Omeprazol : 2 pacientes\n",
      "-> Loratadina : 2 pacientes\n",
      "-> Losartan : 3 pacientes\n",
      "-> Tramadol : 1 pacientes\n",
      "-> Metformina : 2 pacientes\n",
      "-> Losartan : 1 pacientes\n",
      "-> Salbutamol : 2 pacientes\n",
      "-> Atorvastatina : 2 pacientes\n",
      "-> Losartan : 1 pacientes\n",
      "-> Fluoxetina : 1 pacientes\n",
      "-> Ibuprofeno : 1 pacientes\n",
      "-> Salbutamol : 1 pacientes\n",
      "-> Omeprazol : 1 pacientes\n",
      "-> Atorvastatina : 1 pacientes\n"
     ]
    }
   ],
   "source": [
    "# Escribe tu código aquí para el Desafío 3.B\n",
    "lista_medicamentos = []\n",
    "\n",
    "lista_cantidades = []\n",
    "\n",
    "for paciente in datos_pacientes:\n",
    "    for medicamento in paciente[\"medicamentos\"]:\n",
    "        if medicamento in lista_medicamentos:\n",
    "            indice = lista_medicamentos.index(medicamento)\n",
    "            lista_cantidades[indice] += 1\n",
    "    else:\n",
    "        lista_medicamentos.append(medicamento)\n",
    "        lista_cantidades.append(1)\n",
    "\n",
    "print(lista_medicamentos)\n",
    "print(lista_cantidades)\n",
    "\n",
    "print(\"\\n--- Reporte de Frecuencias de Enfermedades ---\")\n",
    "\n",
    "for i in range(len(lista_medicamentos)):\n",
    "    print(f\"-> {lista_medicamentos[i].title()} : {lista_cantidades[i]} pacientes\")"
   ]
  },
  {
   "cell_type": "markdown",
   "metadata": {},
   "source": [
    "--- \n",
    "## FASE 4: Ingeniería de Datos - Comparación de Historias ⚙️\n",
    "\n",
    "¡Nivel Avanzado! Vas a simular una herramienta de comparación de historiales. Debes buscar dos pacientes por cédula y encontrar qué tienen en común."
   ]
  },
  {
   "attachments": {},
   "cell_type": "markdown",
   "metadata": {
    "language": "python"
   },
   "source": [
    "### Desafío 4.A: Elementos en Común\n",
    "\n",
    "**Instrucciones:**\n",
    "1. Pide la cédula (clave `'cedula'`) de dos pacientes.\n",
    "2. **Recorre la lista principal** (`datos_pacientes`) para encontrar los diccionarios de ambos pacientes y asigna sus listas de `'enfermedades'` y `'medicamentos'` a variables temporales.\n",
    "3. Usa bucles `for` y `if...in` para encontrar y mostrar los elementos que se repiten en las listas de ambos pacientes.\n",
    "\n",
    "**Prueba con:**\n",
    "```\n",
    "Cédula 1: 89076541\n",
    "Cédula 2: 45522221\n",
    "Resultado Esperado: Enfermedades en común: ['migraña'], Medicamentos en común: ['acetaminofen']\n",
    "```"
   ]
  },
  {
   "cell_type": "code",
   "execution_count": 37,
   "metadata": {
    "language": "python",
    "tags": []
   },
   "outputs": [
    {
     "name": "stdout",
     "output_type": "stream",
     "text": [
      "Enfermedades comunes entre los pacientes 89076541 y 45522221: ['migraña']\n",
      "Medicamentos comunes entre los pacientes 89076541 y 45522221: ['acetaminofen']\n"
     ]
    }
   ],
   "source": [
    "cedula1 = int(input(\"Ingrese la cédula del paciente 1: 89076541\"))\n",
    "cedula2 = int(input(\"Ingrese la cédula del paciente 2: 45522221\"))\n",
    "\n",
    "#variable para almacenar las listas de enfermedades y medicamentos por paciente\n",
    "lista_enfermedades_paciente1 = []\n",
    "lista_enfermedades_paciente2 = []\n",
    "\n",
    "lista_medicamentos_paciente1 = []\n",
    "lista_medicamentos_paciente2 = []\n",
    "\n",
    "for paciente in datos_pacientes:\n",
    "    if paciente[\"cedula\"] == cedula1:\n",
    "        lista_enfermedades_paciente1 = paciente[\"enfermedades\"]\n",
    "        lista_medicamentos_paciente1 = paciente[\"medicamentos\"]\n",
    "    elif paciente[\"cedula\"] == cedula2:\n",
    "        lista_enfermedades_paciente2 = paciente[\"enfermedades\"]\n",
    "        lista_medicamentos_paciente2 = paciente[\"medicamentos\"]\n",
    "\n",
    "#enfermedades_comunes = set(lista_enfermedades_paciente1) & set(lista_enfermedades_paciente2)\n",
    "#medicamentos_comunes = set(lista_medicamentos_paciente1) & set(lista_medicamentos_paciente2)\n",
    "\n",
    "medicamentos_comunes = []\n",
    "for medicamento in lista_medicamentos_paciente1:\n",
    "    if medicamento in lista_medicamentos_paciente2 and medicamento not in medicamentos_comunes:\n",
    "        medicamentos_comunes.append(medicamento)\n",
    "\n",
    "enfermedades_comunes = []\n",
    "for enfermedad in lista_enfermedades_paciente1:\n",
    "    if enfermedad in lista_enfermedades_paciente2 and enfermedad not in enfermedades_comunes:\n",
    "        enfermedades_comunes.append(enfermedad)\n",
    "\n",
    "print(f\"Enfermedades comunes entre los pacientes {cedula1} y {cedula2}: {enfermedades_comunes}\")\n",
    "print(f\"Medicamentos comunes entre los pacientes {cedula1} y {cedula2}: {medicamentos_comunes}\")    "
   ]
  },
  {
   "attachments": {},
   "cell_type": "markdown",
   "metadata": {
    "language": "python"
   },
   "source": [
    "## Desafío Final: Arte y Matemáticas - Reflexión 🎨📊\n",
    "\n",
    "Has analizado con éxito datos complejos. Es momento de reflexionar:\n",
    "\n",
    "### Preguntas de Reflexión:\n",
    "\n",
    "- ¿Qué diferencia notaste entre trabajar con la lista simple (Fase 1) y los diccionarios (Fase 3)?\n",
    "- ¿Qué patrón de salud general sugiere la enfermedad más frecuente?\n",
    "- Si pudieras hacer este reto con una herramienta más avanzada, ¿qué otra variable analizarías (por ejemplo: Edad promedio de pacientes con Hipertensión)?"
   ]
  }
 ],
 "metadata": {
  "kernelspec": {
   "display_name": "Python 3",
   "language": "python",
   "name": "python3"
  },
  "language_info": {
   "codemirror_mode": {
    "name": "ipython",
    "version": 3
   },
   "file_extension": ".py",
   "mimetype": "text/x-python",
   "name": "python",
   "nbconvert_exporter": "python",
   "pygments_lexer": "ipython3",
   "version": "3.13.7"
  }
 },
 "nbformat": 4,
 "nbformat_minor": 2
}
