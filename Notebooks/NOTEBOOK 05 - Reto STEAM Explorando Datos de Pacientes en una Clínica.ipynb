{
 "cells": [
  {
   "cell_type": "markdown",
   "metadata": {},
   "source": [
    "# Reto Bootcamp STEAM 🔬💻🎨: Explorando Datos de Pacientes\n",
    "## Fundamentos de Python | UMCA\n",
    "## Profesor: Ing. Andrés Mena Abarca\n",
    "### <mark>**Nombre del estudiante:**</mark>\n",
    "* * *"
   ]
  },
  {
   "attachments": {},
   "cell_type": "markdown",
   "metadata": {},
   "source": [
    "## Misión: Científico de Datos Clínicos\n",
    "\n",
    "¡Bienvenidos al reto STEAM! Nuestra misión hoy es construir un sistema de análisis de datos para una clínica, subiendo el nivel de dificultad paso a paso.\n",
    "\n",
    "Comenzaremos con la práctica esencial de **ciclos y listas** y progresaremos hasta el manejo de estructuras de datos complejas (JSON y diccionarios). Si la base es sólida, ¡el análisis avanzado será fácil!\n",
    "\n",
    "### Objetivos de Programación:\n",
    "1. Dominar el uso del ciclo `for` con listas básicas.\n",
    "2. Comprender y cargar el formato **JSON** en Python.\n",
    "3. Implementar **bucles anidados** para datos complejos.\n",
    "4. Aplicar lógica condicional (`if`) y manejo de listas (`.append()`, `.index()`) en todos los niveles."
   ]
  },
  {
   "cell_type": "markdown",
   "metadata": {},
   "source": [
    "--- \n",
    "## FASE 1: Fundamentos de Ciclos y Listas (Nivel Básico) 👶\n",
    "\n",
    "Antes de trabajar con la base de datos completa, vamos a practicar con una simple lista de provincias. Recuerda que un ciclo `for` es una de las herramientas más poderosas de Python."
   ]
  },
  {
   "cell_type": "code",
   "execution_count": null,
   "metadata": {
    "language": "python"
   },
   "outputs": [],
   "source": [
    "# Datos simples para empezar a practicar ciclos\n",
    "provincias_visitas = [\"San Jose\", \"Heredia\", \"Alajuela\", \"San Jose\", \"Cartago\", \"Heredia\", \"San Jose\", \"Puntarenas\"]\n"
   ]
  },
  {
   "cell_type": "markdown",
   "metadata": {},
   "source": [
    "### Desafío 1.A: Mostrar el Recorrido (Ciclo Simple)\n",
    "\n",
    "**Instrucción:** Usa un ciclo `for` para recorrer la lista `provincias_visitas` e imprime un mensaje por cada provincia.\n",
    "\n",
    "**Salida Esperada (parcial):**\n",
    "```\n",
    "Analizando visita en San Jose\n",
    "Analizando visita en Heredia\n",
    "..."
   ]
  },
  {
   "cell_type": "code",
   "execution_count": null,
   "metadata": {},
   "outputs": [],
   "source": [
    "# Escribe tu código aquí para el Desafío 1.A\n"
   ]
  },
  {
   "cell_type": "markdown",
   "metadata": {},
   "source": [
    "### Desafío 1.B: Conteo con Condicionales (Ciclo + IF)\n",
    "\n",
    "**Instrucción:** Crea una variable `conteo_san_jose` e inicialízala en cero. Usa el ciclo `for` para recorrer la lista y un condicional `if` para incrementar el contador solo cuando la provincia sea \"San Jose\".\n",
    "\n",
    "**Salida Esperada:**\n",
    "```\n",
    "El número total de visitas en San Jose es: 3\n",
    "```"
   ]
  },
  {
   "cell_type": "code",
   "execution_count": null,
   "metadata": {},
   "outputs": [],
   "source": [
    "# Escribe tu código aquí para el Desafío 1.B\n"
   ]
  },
  {
   "cell_type": "markdown",
   "metadata": {},
   "source": [
    "--- \n",
    "## FASE 2: Estructuras Avanzadas (JSON y Diccionarios) 🎓\n",
    "\n",
    "Ahora que dominas los ciclos básicos, vamos a subir al nivel de datos profesionales. Nuestra base de datos está en formato **JSON**.\n",
    "\n",
    "**Recordatorio:** En Python, los objetos JSON se convierten en **Diccionarios** (`{}`) y son la clave para el análisis moderno.\n",
    "**Acceso a datos:** Usarás `paciente['clave']`."
   ]
  },
  {
   "cell_type": "code",
   "execution_count": null,
   "metadata": {
    "language": "python"
   },
   "outputs": [],
   "source": [
    "import json\n",
    "\n",
    "# ¡Asegúrate de tener el archivo 'datos_clinica.json' en la misma carpeta!\n",
    "nombre_archivo = 'datos_clinica.json' \n",
    "datos_pacientes = []\n",
    "\n",
    "try:\n",
    "    #CODIGO LEER ARCHIVO\n",
    "    pass \n",
    "except FileNotFoundError:\n",
    "    print(f\"❌ Error: No se encontró el archivo '{nombre_archivo}'. ¡No puedes continuar!\")\n",
    "except Exception as e:\n",
    "    print(f\"❌ Ocurrió un error al leer el archivo: {e}\")"
   ]
  },
  {
   "cell_type": "markdown",
   "metadata": {},
   "source": [
    "### Desafío 2.A: Primer Contacto con Diccionarios\n",
    "\n",
    "**Instrucción:** Usa un ciclo `for` para recorrer los primeros **tres pacientes** de la lista `datos_pacientes`. Por cada paciente, imprime su nombre y edad usando las claves `'nombre'` y `'edad'`.\n",
    "\n",
    "**Pista:** Puedes usar `datos_pacientes[:3]` para limitar la iteración a los primeros tres elementos.\n",
    "\n",
    "**Salida Esperada (parcial):**\n",
    "```\n",
    "Paciente: Ana Gómez, Edad: 34\n",
    "Paciente: Luis Mora, Edad: 45\n",
    "..."
   ]
  },
  {
   "cell_type": "code",
   "execution_count": null,
   "metadata": {},
   "outputs": [],
   "source": [
    "# Escribe tu código aquí para el Desafío 2.A\n"
   ]
  },
  {
   "cell_type": "markdown",
   "metadata": {},
   "source": [
    "--- \n",
    "## FASE 3: Análisis de Frecuencias (Bucles Anidados) 🔬\n",
    "\n",
    "¡Nivel intermedio! Ahora debes usar tus conocimientos de ciclos y condicionales para contar elementos. La complejidad es que tienes una **Lista de enfermedades dentro de un Diccionario**.\n",
    "\n",
    "**El reto es:** Usar un ciclo `for` para pacientes, y otro ciclo `for` **anidado** para las enfermedades."
   ]
  },
  {
   "attachments": {},
   "cell_type": "markdown",
   "metadata": {
    "language": "python"
   },
   "source": [
    "### Desafío 3.A: Reporte de Enfermedades Tratadas (Doble Ciclo)\n",
    "\n",
    "**Instrucciones:**\n",
    "1. Crea una lista vacía para enfermedades (`lista_enfermedades`) y otra para las cantidades (`lista_cantidades`).\n",
    "2. Usa un ciclo `for` para recorrer cada `paciente`.\n",
    "3. Usa un ciclo `for` **anidado** para recorrer la lista `paciente['enfermedades']`.\n",
    "4. Dentro del ciclo anidado, aplica la lógica de conteo (`if...in`, `.index()`, `+= 1`)."
   ]
  },
  {
   "cell_type": "code",
   "execution_count": null,
   "metadata": {
    "language": "python"
   },
   "outputs": [],
   "source": [
    "# Escribe tu código aquí para el Desafío 3.A\n"
   ]
  },
  {
   "attachments": {},
   "cell_type": "markdown",
   "metadata": {
    "language": "python"
   },
   "source": [
    "### Desafío 3.B: Reporte de Medicamentos Recetados\n",
    "\n",
    "Repite la lógica del Desafío 3.A, pero esta vez analizando la clave `'medicamentos'`."
   ]
  },
  {
   "cell_type": "code",
   "execution_count": null,
   "metadata": {
    "language": "python"
   },
   "outputs": [],
   "source": [
    "# Escribe tu código aquí para el Desafío 3.B\n"
   ]
  },
  {
   "cell_type": "markdown",
   "metadata": {},
   "source": [
    "--- \n",
    "## FASE 4: Ingeniería de Datos - Comparación de Historias ⚙️\n",
    "\n",
    "¡Nivel Avanzado! Vas a simular una herramienta de comparación de historiales. Debes buscar dos pacientes por cédula y encontrar qué tienen en común."
   ]
  },
  {
   "attachments": {},
   "cell_type": "markdown",
   "metadata": {
    "language": "python"
   },
   "source": [
    "### Desafío 4.A: Elementos en Común\n",
    "\n",
    "**Instrucciones:**\n",
    "1. Pide la cédula (clave `'cedula'`) de dos pacientes.\n",
    "2. **Recorre la lista principal** (`datos_pacientes`) para encontrar los diccionarios de ambos pacientes y asigna sus listas de `'enfermedades'` y `'medicamentos'` a variables temporales.\n",
    "3. Usa bucles `for` y `if...in` para encontrar y mostrar los elementos que se repiten en las listas de ambos pacientes.\n",
    "\n",
    "**Prueba con:**\n",
    "```\n",
    "Cédula 1: 89076541\n",
    "Cédula 2: 45522221\n",
    "Resultado Esperado: Enfermedades en común: ['migraña'], Medicamentos en común: ['acetaminofen']\n",
    "```"
   ]
  },
  {
   "cell_type": "code",
   "execution_count": null,
   "metadata": {
    "language": "python",
    "tags": []
   },
   "outputs": [],
   "source": [
    "# Escribe tu código aquí para el Desafío 4.A\n"
   ]
  },
  {
   "attachments": {},
   "cell_type": "markdown",
   "metadata": {
    "language": "python"
   },
   "source": [
    "## Desafío Final: Arte y Matemáticas - Reflexión 🎨📊\n",
    "\n",
    "Has analizado con éxito datos complejos. Es momento de reflexionar:\n",
    "\n",
    "### Preguntas de Reflexión:\n",
    "\n",
    "- ¿Qué diferencia notaste entre trabajar con la lista simple (Fase 1) y los diccionarios (Fase 3)?\n",
    "- ¿Qué patrón de salud general sugiere la enfermedad más frecuente?\n",
    "- Si pudieras hacer este reto con una herramienta más avanzada, ¿qué otra variable analizarías (por ejemplo: Edad promedio de pacientes con Hipertensión)?"
   ]
  }
 ],
 "metadata": {
  "kernelspec": {
   "display_name": "Python 3",
   "language": "python",
   "name": "python3"
  },
  "language_info": {
   "codemirror_mode": {
    "name": "ipython",
    "version": 3
   },
   "file_extension": ".py",
   "mimetype": "text/x-python",
   "name": "python",
   "nbconvert_exporter": "python",
   "pygments_lexer": "ipython3",
   "version": "3.10.0"
  }
 },
 "nbformat": 4,
 "nbformat_minor": 2
}
