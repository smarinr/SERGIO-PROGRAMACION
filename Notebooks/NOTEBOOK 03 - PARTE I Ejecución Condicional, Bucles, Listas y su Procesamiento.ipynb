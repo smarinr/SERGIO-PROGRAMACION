{
    "cells": [
        {
            "attachments": {},
            "cell_type": "markdown",
            "metadata": {
                "azdata_cell_guid": "5a9661f6-9c22-438b-8530-debb92fea2ff"
            },
            "source": [
                "# NOTEBOOK 03 - PARTE I Ejecución Condicional, Bucles, Listas y su Procesamiento\n",
                "\n",
                "## Fundamentos de Python | UMCA\n",
                "\n",
                "## Profesor: Ing. Andrés Mena Abarca\n",
                "\n",
                "### <mark>**Nombre del estudiante: Sergio Marin Richmond**</mark>\n",
                "\n",
                "* * *\n",
                "\n",
                "## **1\\. Valores Booleanos**\n",
                "\n",
                "### 1.1. **Teoría**\n",
                "\n",
                "En Python, los valores booleanos son un tipo de dato que solo pueden tener dos valores: `True` (verdadero) y `False` (falso). Estos valores son fundamentales para el control de flujo en los programas, permitiendo que se tomen decisiones basadas en condiciones.\n",
                "\n",
                "- `True` y `False` son palabras clave en Python.\n",
                "- Se usan principalmente en expresiones condicionales y bucles.\n",
                "\n",
                "#### **Operadores de comparación**: Estos operadores devuelven un valor booleano como resultado de comparar dos valores.\n",
                "\n",
                "- `==` (igual a)\n",
                "- `!=` (diferente de)\n",
                "- `<`, `>`, `<=`, `>=` (menor, mayor, menor o igual, mayor o igual)\n",
                "\n",
                "### 1.2. **Ejemplo de Código**"
            ]
        },
        {
            "cell_type": "code",
            "execution_count": null,
            "metadata": {
                "azdata_cell_guid": "65553934-e4e4-4b44-aa2e-b234d1a33667",
                "language": "python"
            },
            "outputs": [
                {
                    "name": "stdout",
                    "output_type": "stream",
                    "text": [
                        "¿Es 10 mayor que 20? False\n",
                        "¿Es 10 igual a 20? False\n"
                    ]
                }
            ],
            "source": [
                "# Ejemplo de valores booleanos\n",
                "x = 10\n",
                "y = 20\n",
                "\n",
                "# Operación de comparación\n",
                "es_mayor = x > y  # False porque 10 no es mayor que 20\n",
                "es_igual = x == y  # False porque 10 no es igual a 20\n",
                "\n",
                "print(f'¿Es {x} mayor que {y}? {es_mayor}')\n",
                "print(f'¿Es {x} igual a {y}? {es_igual}')\n"
            ]
        },
        {
            "attachments": {},
            "cell_type": "markdown",
            "metadata": {
                "azdata_cell_guid": "e75d82f8-c903-459c-b6b4-3cdc9d23ac5c"
            },
            "source": [
                "### <mark>1.3. **Ejercicio Práctico**</mark>\n",
                "\n",
                "**Caso de Aplicación: Evaluación de Edades para una Competencia Deportiva**\n",
                "\n",
                "Imagina que estás organizando una competencia deportiva y necesitas verificar si un participante es elegible para competir en una categoría específica de edad. En esta categoría, los participantes deben tener entre **18 y 30 años** (inclusive). También se deben evaluar dos edades de los participantes, para ver quién es mayor o si tienen la misma edad.\n",
                "\n",
                "El ejercicio requerirá:\n",
                "\n",
                "- Evaluar si un participante es elegible para competir según su edad.\n",
                "- Comparar las edades de dos participantes para determinar quién es mayor.\n",
                "\n",
                "**Proceso**\n",
                "\n",
                "1. **Solicita** <span style='color: var(--vscode-foreground);'> al usuario que ingrese la edad de dos participantes (edad1 y edad2).</span>\n",
                "2. **Verifica** <span style='color: var(--vscode-foreground);'> si cada uno de ellos es elegible para la competencia (la edad debe estar entre 18 y 30 años inclusive).</span>\n",
                "\n",
                "3. **Compara** las edades de los dos participantes:\n",
                "        - ¿Quién es mayor?\n",
                "        - ¿Son de la misma edad?\n",
                "4. **Imprime** resultados detallados de las evaluaciones."
            ]
        },
        {
            "cell_type": "code",
            "execution_count": null,
            "metadata": {
                "azdata_cell_guid": "26417c6c-aa5d-41a9-b7c7-fa268a476a6d",
                "language": "python"
            },
            "outputs": [
                {
                    "name": "stdout",
                    "output_type": "stream",
                    "text": [
                        "Participante 1 de edad: 29 elegible para competencia.\n",
                        "Participante 2 de edad: 45 no elegible para competencia.\n",
                        "El participante 2 es mayor de edad.\n"
                    ]
                }
            ],
            "source": [
                "#1. Solicitar edades a los participantes\n",
                "edad1 = int(input('Ingrese la edad del participante 1: '))\n",
                "edad2 = int(input('Ingrese la edad del participante 2: '))\n",
                "\n",
                "#2. Verificar si cada uno de ellos es elegible para la competencia (la edad debe estar entre 18 y 30 años inclusive)\n",
                "if edad1 >=18 and edad1 <=30:\n",
                "    print(f'Participante 1 de edad: {edad1} elegible para competencia.')\n",
                "else :\n",
                "    print(f'Participante 1 de edad: {edad1} no elegible para competencia.')\n",
                "    \n",
                "if edad2 >=18 and edad2 <=30:\n",
                "    print(f'Participante 2 de edad: {edad2} elegible para competencia.')   \n",
                "else :\n",
                "    print(f'Participante 2 de edad: {edad2} no elegible para competencia.')\n",
                "\n",
                "#3. Comprarar las edades de los dos participantes: - ¿Quién es mayor? - ¿Son de la misma edad?\n",
                "if edad1 == edad2:\n",
                "    print('Participantes con la misma edad.')\n",
                "elif edad1 > edad2:\n",
                "        print('El participante 1 es mayor de edad.')\n",
                "else:\n",
                "        print('El participante 2 es mayor de edad.')"
            ]
        },
        {
            "attachments": {},
            "cell_type": "markdown",
            "metadata": {
                "azdata_cell_guid": "7d08ceac-43f5-4144-9a55-2524859d645c"
            },
            "source": [
                "## **2\\. Ejecución Condicional**\n",
                "\n",
                "### 2.1. **Teoría**\n",
                "\n",
                "La ejecución condicional permite que el programa tome decisiones y ejecute diferentes bloques de código basados en ciertas condiciones. En Python, las estructuras condicionales más comunes son `if`, `elif` (else if) y `else`.\n",
                "\n",
                "### **Estructura básica:**\n",
                "\n",
                "```Python\n",
                "if condición:\n",
                "    # Código si la condición es True\n",
                "elif otra_condición:\n",
                "    # Código si otra_condición es True\n",
                "else:\n",
                "    # Código si ninguna condición es True \n",
                "\n",
                "```\n",
                "\n",
                "### 2.2. **Ejemplo de Código: Clasificación de Calificaciones**\n",
                "\n",
                "#### **Contexto:**\n",
                "\n",
                "Imagina que estás desarrollando un sistema para clasificar las calificaciones de un grupo de estudiantes. El sistema debe recibir una calificación y asignar una letra basada en la siguiente escala:\n",
                "\n",
                "- Si la calificación es mayor o igual a 90, el estudiante obtiene una **A**.\n",
                "- Si la calificación está entre 80 y 89, el estudiante obtiene una **B**.\n",
                "- Si la calificación está entre 70 y 79, el estudiante obtiene una **C**.\n",
                "- Si la calificación está entre 60 y 69, el estudiante obtiene una **D**.\n",
                "- Si la calificación es menor que 60, el estudiante obtiene una **F**.\n",
                "\n",
                "### **Estructura Condicional**\n",
                "\n",
                "Usaremos una serie de sentencias `if`, `elif` y `else` para implementar esta lógica."
            ]
        },
        {
            "cell_type": "code",
            "execution_count": null,
            "metadata": {
                "azdata_cell_guid": "ac546c59-6cc2-47f1-8b71-daeb61c6475c",
                "language": "python"
            },
            "outputs": [
                {
                    "name": "stdout",
                    "output_type": "stream",
                    "text": [
                        "El estudiante ha reprobado con 35.0 para una F.\n"
                    ]
                }
            ],
            "source": [
                "#Respuesta\n",
                "# Ejemplo mejorado: Clasificación de calificaciones de un estudiante\n",
                "try:\n",
                "    calificacion = float(input('Ingrese la calificación del estudiante (0-100): '))\n",
                "    \n",
                "    if calificacion < 0 and calificacion > 100:\n",
                "        print('Calificación inválida. Debe estar entre 0 y 100.')\n",
                "    elif calificacion >= 90:\n",
                "        print(f'El estudiante ha obtenido {calificacion} para una A.')\n",
                "    elif calificacion >= 80:\n",
                "        print(f'El estudiante ha obtenido {calificacion} para una B.')\n",
                "    elif calificacion >= 70:\n",
                "        print(f'El estudiante ha obtenido {calificacion} para una C.')\n",
                "    elif calificacion >= 60:\n",
                "        print(f'El estudiante ha obtenido {calificacion} para una D.')\n",
                "    elif calificacion < 60:\n",
                "        print(f'El estudiante ha reprobado con {calificacion} para una F.')\n",
                "    else:\n",
                "        print('La calificacion ingresada no es valida. Debe estar entre 0 y 100.')\n",
                "\n",
                "except ValueError:\n",
                "    print('Entrada inválida. Por favor ingrese un valor numérico entre 0 y 100.')  "
            ]
        },
        {
            "attachments": {},
            "cell_type": "markdown",
            "metadata": {
                "azdata_cell_guid": "90552ad9-627b-42bd-84b0-f87e15cfe087"
            },
            "source": [
                "### <mark>2.3. **Ejercicio Práctico**</mark>\n",
                "\n",
                "### Escribe un programa que pida al usuario ingresar su edad. Luego, el programa debe imprimir si es mayor o menor de edad (asumiendo 18 años como el límite).\n",
                "\n",
                "- El programa pide al usuario ingresar su edad.\n",
                "- Si el usuario ingresa un valor no válido (por ejemplo, texto o números negativos), le solicita nuevamente que ingrese un número válido.\n",
                "- Dependiendo de la edad ingresada, el programa:\n",
                "    - Imprime si es 'menor de edad' (menor de 18).\n",
                "    - Imprime si es 'mayor de edad' (18 años o más).\n",
                "    - Opcionalmente, imprime un mensaje especial para niños menores de 13 años o personas mayores de 65 años.\n",
                "- Permite que el usuario repita el proceso tantas veces como desee. \\*\\*\\*OPCIONAL"
            ]
        },
        {
            "cell_type": "code",
            "execution_count": 12,
            "metadata": {
                "azdata_cell_guid": "90b5ee62-7483-4012-88a1-415f1716cb3e",
                "language": "python"
            },
            "outputs": [
                {
                    "name": "stdout",
                    "output_type": "stream",
                    "text": [
                        "Edad: 34. Eres mayor de edad.\n",
                        "Edad: 14. Eres menor de edad.\n",
                        "La edad no puede ser negativa. Intente de nuevo.\n",
                        "Entrada inválida. Por favor ingrese un número entero.\n",
                        "La edad no puede ser negativa. Intente de nuevo.\n",
                        "Edad: 4. Eres menor de edad.\n",
                        "Saliendo del programa.\n"
                    ]
                }
            ],
            "source": [
                "# Declaración de variables\n",
                "# Ejercicio para verificar si una persona es mayor o menor de edad\n",
                "\n",
                "while True:\n",
                "    try:\n",
                "        edad = int(input('Ingrese su edad: '))\n",
                "\n",
                "        if edad < 0 or edad >= 150:\n",
                "            print('La edad no puede ser negativa. Intente de nuevo.')\n",
                "            continue\n",
                "            print(f'Tu edad es: {edad}')\n",
                "        if edad < 18:\n",
                "            print(f'Edad: {edad}. Eres menor de edad.')\n",
                "        elif edad >= 18:\n",
                "            print(f'Edad: {edad}. Eres mayor de edad.')\n",
                "        elif edad <= 65:\n",
                "            print(f'Edad: {edad}. ¡Eres un adulto mayor!')\n",
                "            \n",
                "        repetir = input('¿Desea ingresar otra edad? (s/n): ').strip().lower()\n",
                "        if repetir != 's':\n",
                "            print('Saliendo del programa.')\n",
                "            break   \n",
                "    except ValueError:\n",
                "        print('Entrada inválida. Por favor ingrese un número entero.')  "
            ]
        },
        {
            "attachments": {},
            "cell_type": "markdown",
            "metadata": {
                "azdata_cell_guid": "7a387c19-3988-4cdd-a37b-33becdadbb46"
            },
            "source": [
                "## **3\\. Bucles**\n",
                "\n",
                "### 3.1. **Teoría**\n",
                "\n",
                "Los bucles permiten repetir un bloque de código varias veces. Python tiene dos tipos principales de bucles: `for` y `while`.\n",
                "\n",
                "- **Bucle `for`:** Se utiliza para iterar sobre una secuencia (listas, tuplas, cadenas, etc.).\n",
                "- **Bucle `while`:** Repite un bloque de código mientras una condición sea `True`.\n",
                "\n",
                "### 3.2. **Ejemplo de Código**\n",
                "\n",
                "### \n",
                "\n",
                "- **Bucle `for`:**"
            ]
        },
        {
            "cell_type": "code",
            "execution_count": 15,
            "metadata": {
                "azdata_cell_guid": "12496b36-600f-4f59-8607-58eafbbac4e5",
                "language": "python"
            },
            "outputs": [
                {
                    "name": "stdout",
                    "output_type": "stream",
                    "text": [
                        "Valor de la variable num: 10\n",
                        "Valor de la variable num: 9\n",
                        "Valor de la variable num: 8\n",
                        "Valor de la variable num: 7\n",
                        "Valor de la variable num: 6\n",
                        "Valor de la variable num: 5\n",
                        "Valor de la variable num: 4\n",
                        "Valor de la variable num: 3\n",
                        "Valor de la variable num: 2\n",
                        "Valor de la variable num: 1\n"
                    ]
                }
            ],
            "source": [
                "# Ejemplo de bucle for\n",
                "num = 10\n",
                "while num > 0:\n",
                "    print(f'Valor de la variable num: {num}')\n",
                "    num -= 1\n",
                "    \n",
                "\n"
            ]
        },
        {
            "cell_type": "code",
            "execution_count": null,
            "metadata": {},
            "outputs": [
                {
                    "name": "stdout",
                    "output_type": "stream",
                    "text": [
                        "Valor de la variable i: 1\n",
                        "Valor de la variable i: 2\n",
                        "Valor de la variable i: 3\n",
                        "Valor de la variable i: 4\n",
                        "Valor de la variable i: 5\n",
                        "Valor de la variable i: 6\n",
                        "Valor de la variable i: 7\n",
                        "Valor de la variable i: 8\n",
                        "Valor de la variable i: 9\n",
                        "Valor de la variable i: 10\n"
                    ]
                }
            ],
            "source": [
                "for i in range(10):\n",
                "    print(f'Valor de la variable i: {i}')    "
            ]
        },
        {
            "cell_type": "code",
            "execution_count": 17,
            "metadata": {},
            "outputs": [
                {
                    "name": "stdout",
                    "output_type": "stream",
                    "text": [
                        "Valor de la variable i: 1\n",
                        "Valor de la variable i: 2\n",
                        "Valor de la variable i: 3\n",
                        "Valor de la variable i: 4\n",
                        "Valor de la variable i: 5\n",
                        "Valor de la variable i: 6\n",
                        "Valor de la variable i: 7\n",
                        "Valor de la variable i: 8\n",
                        "Valor de la variable i: 9\n",
                        "Valor de la variable i: 10\n"
                    ]
                }
            ],
            "source": [
                "for i in range(1,11):\n",
                "    print(f'Valor de la variable i: {i}')    "
            ]
        },
        {
            "cell_type": "code",
            "execution_count": 19,
            "metadata": {},
            "outputs": [
                {
                    "name": "stdout",
                    "output_type": "stream",
                    "text": [
                        "Valor de la variable i: 10\n",
                        "Valor de la variable i: 9\n",
                        "Valor de la variable i: 8\n",
                        "Valor de la variable i: 7\n",
                        "Valor de la variable i: 6\n",
                        "Valor de la variable i: 5\n",
                        "Valor de la variable i: 4\n",
                        "Valor de la variable i: 3\n",
                        "Valor de la variable i: 2\n",
                        "Valor de la variable i: 1\n"
                    ]
                }
            ],
            "source": [
                "for i in range(10,0,-1):\n",
                "    print(f'Valor de la variable i: {i}')    \n"
            ]
        },
        {
            "attachments": {},
            "cell_type": "markdown",
            "metadata": {
                "azdata_cell_guid": "c24a4bae-ea4c-485d-8067-d5e07afb3435",
                "language": "python"
            },
            "source": [
                "### **Caso: Suma de numeros del 1 a la cantidad que defina el usuario.**\n",
                "\n",
                "Vamos a suponer que queremos calcular la suma de los números del 1 a la catidad que deficna el suario. Este caso es útil para entender cómo funciona el bucle `for`, ya que iteramos sobre una secuencia de números y realizamos una operación en cada iteración."
            ]
        },
        {
            "cell_type": "code",
            "execution_count": 25,
            "metadata": {
                "azdata_cell_guid": "49c58740-3080-45a0-b119-c5b144581977",
                "language": "python"
            },
            "outputs": [
                {
                    "name": "stdout",
                    "output_type": "stream",
                    "text": [
                        "1 La suma de 0 + 1 = 1\n",
                        "2 La suma de 1 + 2 = 3\n",
                        "3 La suma de 3 + 3 = 6\n",
                        "La suma de los números desde 1 hasta 3 es: 6\n"
                    ]
                }
            ],
            "source": [
                "#Respuesta\n",
                "suma = 0\n",
                "numero = int(input('Ingrese un número entero positivo (o \"salir\" para terminar): '))\n",
                "\n",
                "\n",
                "for num in range (1,numero + 1):\n",
                "    print (f'{num:} La suma de {suma} + {num} = {suma + num}')\n",
                "    suma = suma + num\n",
                "    \n",
                "print(f'La suma de los números desde 1 hasta {numero} es: {suma}')\n"
            ]
        },
        {
            "attachments": {},
            "cell_type": "markdown",
            "metadata": {
                "azdata_cell_guid": "c0bcf79f-f9af-4761-81f7-ada74af0a7ec"
            },
            "source": [
                "### \n",
                "\n",
                "- **Bucle** `while`:"
            ]
        },
        {
            "cell_type": "code",
            "execution_count": null,
            "metadata": {
                "azdata_cell_guid": "a3aaa670-2151-4756-9264-85312d17674a",
                "language": "python",
                "tags": []
            },
            "outputs": [],
            "source": [
                "# Ejemplo de bucle while\n"
            ]
        },
        {
            "attachments": {},
            "cell_type": "markdown",
            "metadata": {
                "azdata_cell_guid": "2d7802f8-ded4-4357-8ac4-69fd427f1a51",
                "language": "python"
            },
            "source": [
                "### **Caso: Cálculo de Total de Compras**\n",
                "\n",
                "#### <span style='color: var(--vscode-foreground); font-weight: normal;'>Imagina que estás desarrollando un pequeño programa para una tienda. Los clientes ingresan el precio de varios productos que están comprando, uno por uno. El programa debe seguir pidiendo el precio de cada producto hasta que el usuario indique que no va a ingresar más productos, y al final, debe calcular y mostrar el total a pagar.</span>"
            ]
        },
        {
            "cell_type": "code",
            "execution_count": null,
            "metadata": {
                "azdata_cell_guid": "fd2a5e98-6e47-475a-9006-7510558a271c",
                "language": "python",
                "tags": []
            },
            "outputs": [
                {
                    "name": "stdout",
                    "output_type": "stream",
                    "text": [
                        "El total a pagar es: $470.35\n"
                    ]
                }
            ],
            "source": [
                "#Respuesta\n",
                "while True:\n",
                "    try:\n",
                "        precio = float(input('Ingrese el precio del producto (o ingrese 0 para finalizar): '))\n",
                "\n",
                "        if precio == 0:\n",
                "            break\n",
                "\n",
                "        if precio < 0:\n",
                "            print('El precio no puede ser negativo. Inténtalo nuevamente.')\n",
                "        \n",
                "        total += precio\n",
                "\n",
                "    except Exception as e:\n",
                "        print(f'Error: {e}')\n",
                "#Salida \n",
                "print(f\"El total a pagar es: ${total:.2f}\") "
            ]
        },
        {
            "attachments": {},
            "cell_type": "markdown",
            "metadata": {
                "azdata_cell_guid": "10864839-331a-4069-8cb9-58123740ec63"
            },
            "source": [
                "### <mark>3.3. **Ejercicio Práctico -** Tabla de Multiplicar</mark>\n",
                "\n",
                "**Descripción:** Crea un programa que pida al usuario un número entero `n` y muestre la tabla de multiplicar de ese número del 1 al 10. Utiliza un ciclo `while` para generar la tabla.\n",
                "\n",
                "**Instrucciones:**\n",
                "\n",
                "1. Solicita al usuario que ingrese un número entero.\n",
                "2. Inicializa una variable `i` en 1.\n",
                "3. Utiliza un ciclo `while` para que mientras `i` sea menor o igual a 10:\n",
                "    - Multiplica `n` por `i` y muestra el resultado en el formato 'n x i = resultado'.\n",
                "    - Incrementa `i` en 1.\n",
                "4. Al final, muestra la tabla completa.\n",
                "\n",
                "**Ejemplo de salida:**\n",
                "\n",
                "```\n",
                "\n",
                "Ingrese un número entero: 3\n",
                "Tabla de multiplicar de 3:\n",
                "\n",
                "3 x 1 = 3\n",
                "3 x 2 = 6\n",
                "3 x 3 = 9\n",
                "3 x 4 = 12\n",
                "3 x 5 = 15\n",
                "3 x 6 = 18\n",
                "3 x 7 = 21\n",
                "3 x 8 = 24\n",
                "3 x 9 = 27\n",
                "3 x 10 = 30\n",
                "\n",
                "```"
            ]
        },
        {
            "cell_type": "code",
            "execution_count": 2,
            "metadata": {
                "azdata_cell_guid": "0ac67dcf-9e16-4022-94c3-fd2af98a43fd",
                "language": "python"
            },
            "outputs": [
                {
                    "name": "stdout",
                    "output_type": "stream",
                    "text": [
                        "\n",
                        "Tabla de multiplicar del 6:\n",
                        "\n",
                        "6 x 1 = 6\n",
                        "6 x 2 = 12\n",
                        "6 x 3 = 18\n",
                        "6 x 4 = 24\n",
                        "6 x 5 = 30\n",
                        "6 x 6 = 36\n",
                        "6 x 7 = 42\n",
                        "6 x 8 = 48\n",
                        "6 x 9 = 54\n",
                        "6 x 10 = 60\n",
                        "\n",
                        "--- Fin de la tabla ---\n"
                    ]
                }
            ],
            "source": [
                "# 1. Solicita al usuario que ingrese un número entero\n",
                "n = int(input(\"Ingresa un número entero: \"))\n",
                "\n",
                "# 2. Inicializa la variable i en 1\n",
                "i = 1\n",
                "\n",
                "print(f\"\\nTabla de multiplicar del {n}:\\n\")\n",
                "\n",
                "# 3. Ciclo while: mientras i sea menor o igual a 10\n",
                "while i <= 10:\n",
                "    resultado = n * i\n",
                "    print(f\"{n} x {i} = {resultado}\")\n",
                "    i += 1  # Incrementa i en 1\n",
                "\n",
                "# 4. Mensaje final\n",
                "print(\"\\n--- Fin de la tabla ---\")"
            ]
        },
        {
            "attachments": {},
            "cell_type": "markdown",
            "metadata": {
                "azdata_cell_guid": "57643192-1d41-4b05-9716-bb07f2c061fe",
                "language": "python"
            },
            "source": [
                "#### <mark>3.3. Ejercicio Práctico</mark>\n",
                "\n",
                "Escribe un programa que imprima los números del 1 al 10 usando un bucle for. Luego, realiza el mismo ejercicio con un bucle while."
            ]
        },
        {
            "cell_type": "code",
            "execution_count": null,
            "metadata": {
                "azdata_cell_guid": "f3753d98-fffa-464b-aa95-e6129cc6c3b6",
                "language": "python"
            },
            "outputs": [],
            "source": [
                "# Imprimir los números del 1 al 10 con un bucle for\n",
                "print(\"Números del 1 al 10 usando for:\")\n",
                "\n",
                "for i in range(1, 11):\n",
                "    print(i)"
            ]
        },
        {
            "cell_type": "code",
            "execution_count": null,
            "metadata": {},
            "outputs": [],
            "source": [
                "# Imprimir los números del 1 al 10 con un bucle while\n",
                "print(\"\\nNúmeros del 1 al 10 usando while:\")\n",
                "\n",
                "i = 1\n",
                "while i <= 10:\n",
                "    print(i)\n",
                "    i += 1"
            ]
        },
        {
            "attachments": {},
            "cell_type": "markdown",
            "metadata": {
                "azdata_cell_guid": "34bbf155-7b0d-4faf-afd8-162d9192da2b",
                "language": "python"
            },
            "source": [
                "**Caso 2: Suma de Números**\n",
                "- **Presentación:** Supongamos que tienes una lista de números y quieres calcular la suma total. ¿Cómo podrías hacer esto en Python?    \n",
                "- **Salida Esperada:**    \n",
                "    - La suma total de los números en la lista.\n",
                "- **Preguntas adicionales:**    \n",
                "    - ¿Cómo podrías calcular el promedio de los números?\n",
                "    - ¿Y si quisieras encontrar el número más grande y el más pequeño?\n",
                "    - ¿Puedes modificar el código para que solo sume los números pares?"
            ]
        },
        {
            "attachments": {},
            "cell_type": "markdown",
            "metadata": {
                "azdata_cell_guid": "08d5eece-75c3-4e51-83b9-9388510c5dd5"
            },
            "source": [
                "## **4\\. Listas y su Procesamiento**\n",
                "\n",
                "### 4.1. **Teoría**\n",
                "\n",
                "Una lista es una estructura de datos en Python que almacena múltiples elementos en un solo objeto. Las listas son mutables, lo que significa que podemos modificar su contenido después de haberlas creado.\n",
                "\n",
                "### **Operaciones comunes con listas:**\n",
                "\n",
                "- **Añadir elementos:** `append()`, `insert()`\n",
                "- **Eliminar elementos:** `remove()`, `pop()`\n",
                "- **Acceso a elementos:** Índices\n",
                "- **Slicing:** Obtener sublistas\n",
                "\n",
                "### 4.2. **Ejemplo de Código**"
            ]
        },
        {
            "cell_type": "code",
            "execution_count": 9,
            "metadata": {
                "azdata_cell_guid": "4450cc96-4f36-4404-b39b-0aa88f4412e8",
                "language": "python"
            },
            "outputs": [
                {
                    "name": "stdout",
                    "output_type": "stream",
                    "text": [
                        "Lista original: ['manzana', 'banana', 'cereza']\n",
                        "Después de append(): ['manzana', 'banana', 'cereza', 'naranja']\n",
                        "Después de insert(): ['manzana', 'kiwi', 'banana', 'cereza', 'naranja']\n",
                        "Después de remove(): ['manzana', 'kiwi', 'cereza', 'naranja']\n",
                        "Después de pop(2): ['manzana', 'kiwi', 'naranja']\n",
                        "Primer elemento: manzana\n",
                        "Último elemento: naranja\n",
                        "\n",
                        "Lista original: [10, 20, 30, 40, 50, 60]\n",
                        "Sublista [1:4]: [20, 30, 40]\n",
                        "Primeros tres: [10, 20, 30]\n",
                        "Desde el cuarto en adelante: [40, 50, 60]\n"
                    ]
                }
            ],
            "source": [
                "# Ejemplo de procesamiento de listas\n",
                "\n",
                "# Lista inicial\n",
                "frutas = [\"manzana\", \"banana\", \"cereza\"]\n",
                "print(\"Lista original:\", frutas)\n",
                "#Lista original: ['manzana', 'banana', 'cereza']\n",
                "\n",
                "\n",
                "#append() agrega un elemento al final de la lista\n",
                "frutas.append(\"naranja\")\n",
                "print(\"Después de append():\", frutas)\n",
                "#Después de append(): ['manzana', 'banana', 'cereza', 'naranja']\n",
                "\n",
                "#insert() inserta un elemento en una posición específica\n",
                "frutas.insert(1, \"kiwi\")  # Inserta en la posición 1\n",
                "print(\"Después de insert():\", frutas)\n",
                "#Después de insert(): ['manzana', 'kiwi', 'banana', 'cereza', 'naranja']\n",
                "\n",
                "#remove() elimina un elemento específico de la lista\n",
                "frutas.remove(\"banana\")\n",
                "print(\"Después de remove():\", frutas)\n",
                "#Después de remove(): ['manzana', 'kiwi', 'cereza', 'naranja']\n",
                "\n",
                "#pop() elimina un elemento en una posición específica y lo devuelve\n",
                "frutas.pop(2)  # Elimina el elemento en índice 2\n",
                "print(\"Después de pop(2):\", frutas)\n",
                "#Después de pop(2): ['manzana', 'kiwi', 'naranja']\n",
                "\n",
                "# Acceder a elementos por índice\n",
                "print(\"Primer elemento:\", frutas[0])\n",
                "print(\"Último elemento:\", frutas[-1])\n",
                "\n",
                "\n",
                "numeros = [10, 20, 30, 40, 50, 60]\n",
                "print(\"\\nLista original:\", numeros)\n",
                "\n",
                "print(\"Sublista [1:4]:\", numeros[1:4])   # Elementos del índice 1 al 3\n",
                "print(\"Primeros tres:\", numeros[:3])\n",
                "print(\"Desde el cuarto en adelante:\", numeros[3:])\n",
                "\n"
            ]
        },
        {
            "attachments": {},
            "cell_type": "markdown",
            "metadata": {
                "azdata_cell_guid": "f8af47ce-1967-48b9-befe-7c36b15ba133"
            },
            "source": [
                "### <mark>4.3. **Ejercicio Práctico**</mark>\n",
                "\n",
                "Imagina que quieres crear una lista de tus amigos. ¿Cómo podrías almacenar estos nombres en Python? Una vez que tengas la lista, ¿cómo podrías agregar un nuevo amigo? ¿Y cómo podrías saludar a cada uno de ellos?\n",
                "\n",
                "```\n",
                "amigos = ['Ana', 'Juan', 'María', 'Pedro'\\] \\# ... (resto del código)\n",
                "\n",
                "```\n",
                "\n",
                "**Salida Esperada:**\n",
                "\n",
                "```\n",
                "- Una lista impresa con todos los nombres de los amigos.\n",
                "- El nombre del tercer amigo.\n",
                "- Un saludo personalizado para cada amigo.\n",
                "\n",
                "```\n",
                "\n",
                "**Preguntas adicionales:**\n",
                "\n",
                "```\n",
                "- ¿Cómo podrías eliminar a un amigo de la lista?\n",
                "- ¿Qué pasa si quieres cambiar el nombre de un amigo?\n",
                "- ¿Puedes ordenar la lista alfabéticamente?\n",
                "\n",
                "```"
            ]
        },
        {
            "cell_type": "code",
            "execution_count": null,
            "metadata": {
                "azdata_cell_guid": "de9d885b-ca64-4e10-b8c6-8afd4c69239c",
                "language": "python"
            },
            "outputs": [
                {
                    "name": "stdout",
                    "output_type": "stream",
                    "text": [
                        "Lista de amigos: ['Ana', 'Juan', 'María', 'Pedro']\n",
                        "El tercer amigo es: María\n",
                        "\n",
                        "Después de agregar a Lucía: ['Ana', 'Juan', 'María', 'Pedro', 'Felipe']\n",
                        "\n",
                        "Saludos personalizados:\n",
                        "Hola, Ana! Qué gusto verte.\n",
                        "Hola, Juan! Qué gusto verte.\n",
                        "Hola, María! Qué gusto verte.\n",
                        "Hola, Pedro! Qué gusto verte.\n",
                        "Hola, Felipe! Qué gusto verte.\n",
                        "Después de eliminar a Pedro: ['Ana', 'Juan', 'María', 'Felipe']\n",
                        "Después de cambiar el nombre: ['Ana', 'Juan', 'Fabiola', 'Felipe']\n"
                    ]
                }
            ],
            "source": [
                "# Crear una lista con los nombres de tus amigos\n",
                "amigos = ['Ana', 'Juan', 'María', 'Pedro']\n",
                "\n",
                "# Mostrar la lista completa\n",
                "print(\"Lista de amigos:\", amigos)\n",
                "\n",
                "# Mostrar el nombre del tercer amigo (recuerda que el índice comienza en 0)\n",
                "print(\"El tercer amigo es:\", amigos[2])\n",
                "\n",
                "# Agregar un nuevo amigo a la lista\n",
                "\n",
                "nuevoAmigo = input(\"Ingresa el nombre de un nuevo amigo: \")\n",
                "amigos.append(nuevoAmigo)\n",
                "print(\"\\nDespués de agregar a Lucía:\", amigos)\n",
                "\n",
                "# Saludar a cada amigo con un mensaje personalizado\n",
                "print(\"\\nSaludos personalizados:\")\n",
                "for amigo in amigos:\n",
                "    print(f\"Hola, {amigo}! Qué gusto verte.\")\n",
                "    \n",
                "# Eliminar un amigo de la lista\n",
                "amigos.remove('Pedro')\n",
                "print(\"\\nDespués de eliminar a Pedro:\", amigos)\n",
                "\n",
                "# Cambiar el nombre de un amigo en la lista\n",
                "posAmigo = int(input(\"Ingresa la posición (0-{}) del amigo que deseas cambiar de nombre: \".format(len(amigos)-1)))\n",
                "nuevoNombre = input(\"Ingresa el nuevo nombre para el amigo en la posición {}: \")\n",
                "amigos[posAmigo] = nuevoNombre\n",
                "print(\"Después de cambiar el nombre:\", amigos)\n",
                "\n",
                "# Ordenar la lista de amigos alfabéticamente\n",
                "amigos.sort()\n",
                "print(\"Lista ordenada alfabéticamente:\", amigos)\n",
                "\n"
            ]
        },
        {
            "attachments": {},
            "cell_type": "markdown",
            "metadata": {
                "azdata_cell_guid": "2a24eed7-de3f-4200-86f6-3a3b138d9253"
            },
            "source": [
                "## **4\\. Listas y su Procesamiento**\n",
                "\n",
                "### 4.1. **Teoría**\n",
                "\n",
                "Una lista es una estructura de datos en Python que almacena múltiples elementos en un solo objeto. Las listas son mutables, lo que significa que podemos modificar su contenido después de haberlas creado.\n",
                "\n",
                "### **Operaciones comunes con listas:**\n",
                "\n",
                "- **Añadir elementos:** `append()`, `insert()`\n",
                "- **Eliminar elementos:** `remove()`, `pop()`\n",
                "- **Acceso a elementos:** Índices\n",
                "- **Slicing:** Obtener sublistas\n",
                "\n",
                "### 4.2. **Ejemplo de Código**"
            ]
        },
        {
            "cell_type": "code",
            "execution_count": null,
            "metadata": {
                "azdata_cell_guid": "11f0ac54-2638-45a6-8f22-5268289ac86d",
                "language": "python",
                "tags": []
            },
            "outputs": [],
            "source": [
                "# Ejemplo de procesamiento de listas\n",
                "#             0          1          2"
            ]
        },
        {
            "attachments": {},
            "cell_type": "markdown",
            "metadata": {
                "azdata_cell_guid": "fe863a2c-41ac-4322-a94d-6f2154b12c23",
                "language": "python"
            },
            "source": [
                "**append(elemento):**\n",
                "\n",
                "- Agrega un elemento al final de la lista."
            ]
        },
        {
            "cell_type": "code",
            "execution_count": 3,
            "metadata": {
                "azdata_cell_guid": "390d1287-7bdd-43f1-8338-e09b1ab5b9b7",
                "language": "python"
            },
            "outputs": [
                {
                    "name": "stdout",
                    "output_type": "stream",
                    "text": [
                        "Lista original: ['manzana', 'banana', 'cereza']\n",
                        "Después de append(): ['manzana', 'banana', 'cereza', 'naranja']\n"
                    ]
                }
            ],
            "source": [
                "# Ejemplo de procesamiento de listas\n",
                "\n",
                "# Lista inicial\n",
                "frutas = [\"manzana\", \"banana\", \"cereza\"]\n",
                "print(\"Lista original:\", frutas)\n",
                "#Lista original: ['manzana', 'banana', 'cereza']\n",
                "\n",
                "#append() agrega un elemento al final de la lista\n",
                "frutas.append(\"naranja\")\n",
                "print(\"Después de append():\", frutas)\n",
                "#Después de append(): ['manzana', 'banana', 'cereza', 'naranja']"
            ]
        },
        {
            "attachments": {},
            "cell_type": "markdown",
            "metadata": {
                "azdata_cell_guid": "1feeb01b-5c04-4ba0-bef6-e682262c92ca",
                "language": "python"
            },
            "source": [
                "**insert(índice, elemento):**\n",
                "\n",
                "- Inserta un elemento en una posición específica de la lista.\n",
                "- El índice indica la posición antes de la cual se insertará el elemento."
            ]
        },
        {
            "cell_type": "code",
            "execution_count": 2,
            "metadata": {
                "azdata_cell_guid": "7ce0bb35-c66f-4d06-9a89-e0a2dca53266",
                "language": "python"
            },
            "outputs": [
                {
                    "name": "stdout",
                    "output_type": "stream",
                    "text": [
                        "Lista original: ['manzana', 'banana', 'cereza']\n",
                        "Después de insert(): ['manzana', 'kiwi', 'banana', 'cereza']\n"
                    ]
                }
            ],
            "source": [
                "# Ejemplo de procesamiento de listas\n",
                "\n",
                "# Lista inicial\n",
                "frutas = [\"manzana\", \"banana\", \"cereza\"]\n",
                "print(\"Lista original:\", frutas)\n",
                "#Lista original: ['manzana', 'banana', 'cereza']\n",
                "\n",
                "#insert() inserta un elemento en una posición específica\n",
                "frutas.insert(1, \"kiwi\")  # Inserta en la posición 1\n",
                "print(\"Después de insert():\", frutas)\n",
                "#Después de insert(): ['manzana', 'kiwi', 'banana', 'cereza']"
            ]
        },
        {
            "attachments": {},
            "cell_type": "markdown",
            "metadata": {
                "azdata_cell_guid": "26ac0ea0-af16-4b3e-aa56-9442cf11eeb2",
                "language": "python"
            },
            "source": [
                "**remove(elemento):**\n",
                "\n",
                "- Elimina la primera ocurrencia de un elemento específico de la lista.\n",
                "- Si el elemento no existe, se produce un error."
            ]
        },
        {
            "cell_type": "code",
            "execution_count": null,
            "metadata": {
                "azdata_cell_guid": "17b9619a-2b82-48be-b955-f27112bb03cb",
                "language": "python"
            },
            "outputs": [],
            "source": [
                "# Ejemplo de procesamiento de listas\n",
                "\n",
                "# Lista inicial\n",
                "frutas = [\"manzana\", \"banana\", \"cereza\"]\n",
                "print(\"Lista original:\", frutas)\n",
                "#Lista original: ['manzana', 'banana', 'cereza']\n",
                "\n",
                "#remove() elimina un elemento específico de la lista\n",
                "frutas.remove(\"banana\")\n",
                "print(\"Después de remove():\", frutas)\n",
                "#Después de remove(): ['manzana', 'cereza']\n",
                "\n"
            ]
        },
        {
            "attachments": {},
            "cell_type": "markdown",
            "metadata": {
                "azdata_cell_guid": "aed96f34-e449-4d8c-b709-d2f5e5b4e4eb",
                "language": "python"
            },
            "source": [
                "**pop(índice):**\n",
                "\n",
                "- Elimina y devuelve el elemento en la posición indicada.\n",
                "- Si no se especifica un índice, elimina y devuelve el último elemento."
            ]
        },
        {
            "cell_type": "code",
            "execution_count": null,
            "metadata": {
                "azdata_cell_guid": "a13c2808-612f-45b2-a935-1dc4333b8677",
                "language": "python"
            },
            "outputs": [
                {
                    "name": "stdout",
                    "output_type": "stream",
                    "text": [
                        "Lista original: ['manzana', 'banana', 'cereza']\n",
                        "Después de pop(2): ['manzana', 'banana']\n"
                    ]
                }
            ],
            "source": [
                "# Lista inicial\n",
                "frutas = [\"manzana\", \"banana\", \"cereza\"]\n",
                "print(\"Lista original:\", frutas)\n",
                "#Lista original: ['manzana', 'banana', 'cereza']\n",
                "\n",
                "#pop() elimina un elemento en una posición específica y lo devuelve\n",
                "frutas.pop(2)  # Elimina el elemento en índice 2\n",
                "print(\"Después de pop(2):\", frutas)\n",
                "#Después de pop(2): ['manzana', 'banana']"
            ]
        },
        {
            "attachments": {},
            "cell_type": "markdown",
            "metadata": {
                "azdata_cell_guid": "ee2dbb3e-efbf-4cb9-aa30-faae355f31fb",
                "language": "python"
            },
            "source": [
                "### **<mark>Caso Final</mark>** \n",
                "\n",
                "  \n",
                "\n",
                "Un profesor quiere llevar un registro de los nombres de sus estudiantes. Ayúdale a crear un programa que le permita agregar nuevos estudiantes, ver la lista completa y acceder a la información de un estudiante en particular."
            ]
        },
        {
            "cell_type": "code",
            "execution_count": null,
            "metadata": {
                "azdata_cell_guid": "9632a0a3-3979-4a34-b08b-82179de35bc0",
                "language": "python"
            },
            "outputs": [
                {
                    "name": "stdout",
                    "output_type": "stream",
                    "text": [
                        "\n",
                        "--- MENÚ ---\n",
                        "1. Agregar nuevo estudiante\n",
                        "2. Ver lista completa\n",
                        "3. Ver estudiante por número\n",
                        "4. Salir\n",
                        "⚠️ No hay estudiantes registrados todavía.\n",
                        "\n",
                        "--- MENÚ ---\n",
                        "1. Agregar nuevo estudiante\n",
                        "2. Ver lista completa\n",
                        "3. Ver estudiante por número\n",
                        "4. Salir\n"
                    ]
                }
            ],
            "source": [
                "# Programa: Registro de estudiantes\n",
                "\n",
                "# Lista vacía para guardar los nombres de los estudiantes\n",
                "estudiantes = []\n",
                "\n",
                "while True:\n",
                "    print(\"\\n--- MENÚ ---\")\n",
                "    print(\"1. Agregar nuevo estudiante\")\n",
                "    print(\"2. Ver lista completa\")\n",
                "    print(\"3. Ver estudiante por número\")\n",
                "    print(\"4. Salir\")\n",
                "\n",
                "    opcion = input(\"Elige una opción (1-4): \")\n",
                "\n",
                "    if opcion == \"1\":\n",
                "        # Agregar estudiante\n",
                "        nombre = input(\"Ingresa el nombre del estudiante: \")\n",
                "        estudiantes.append(nombre)\n",
                "        print(f\"✅ {nombre} ha sido agregado correctamente.\")\n",
                "\n",
                "    elif opcion == \"2\":\n",
                "        # Mostrar lista completa\n",
                "        if len(estudiantes) == 0:\n",
                "            print(\"⚠️ No hay estudiantes registrados todavía.\")\n",
                "        else:\n",
                "            print(\"\\n📋 Lista de estudiantes:\")\n",
                "            for i, nombre in enumerate(estudiantes, start=1):\n",
                "                print(f\"{i}. {nombre}\")\n",
                "\n",
                "    elif opcion == \"3\":\n",
                "        # Mostrar un estudiante en particular\n",
                "        if len(estudiantes) == 0:\n",
                "            print(\"⚠️ No hay estudiantes registrados todavía.\")\n",
                "        else:\n",
                "            try:\n",
                "                indice = int(input(\"Ingresa el número del estudiante: \")) - 1\n",
                "                if 0 <= indice < len(estudiantes):\n",
                "                    print(f\"🎓 El estudiante seleccionado es: {estudiantes[indice]}\")\n",
                "                else:\n",
                "                    print(\"❌ Número fuera de rango.\")\n",
                "            except ValueError:\n",
                "                print(\"⚠️ Debes ingresar un número válido.\")\n",
                "\n",
                "    elif opcion == \"4\":\n",
                "        # Salir del programa\n",
                "        print(\"👋 Saliendo del registro. ¡Hasta luego!\")\n",
                "        break\n",
                "\n",
                "    else:\n",
                "        print(\"❌ Opción no válida. Intenta nuevamente.\")\n"
            ]
        }
    ],
    "metadata": {
        "kernelspec": {
            "display_name": "Python 3",
            "language": "python",
            "name": "python3"
        },
        "language_info": {
            "codemirror_mode": {
                "name": "ipython",
                "version": 3
            },
            "file_extension": ".py",
            "mimetype": "text/x-python",
            "name": "python",
            "nbconvert_exporter": "python",
            "pygments_lexer": "ipython3",
            "version": "3.13.7"
        }
    },
    "nbformat": 4,
    "nbformat_minor": 2
}
