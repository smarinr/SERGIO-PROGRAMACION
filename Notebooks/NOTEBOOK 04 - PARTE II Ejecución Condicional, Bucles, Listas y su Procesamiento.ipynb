{
 "cells": [
  {
   "attachments": {},
   "cell_type": "markdown",
   "metadata": {},
   "source": [
    "# NOTEBOOK 04 - PARTE II\n",
    "## Ejecución Condicional, Bucles, Listas y su Procesamiento\n",
    "\n",
    "### Fundamentos de Python | UMCA\n",
    "\n",
    "**Profesor:** Ing. Andrés Mena Abarca\n",
    "\n",
    "**Nombre del estudiante:** Sergio Marin Richmond\n",
    "\n",
    "---"
   ]
  },
  {
   "attachments": {},
   "cell_type": "markdown",
   "metadata": {},
   "source": [
    "## ¿Qué son las Listas en Python? 📦\n",
    "\n",
    "Imagina que tienes una caja mágica que puede contener todo tipo de objetos: desde libros, juguetes, hasta otros contenedores con más objetos dentro. No solo eso, esta caja tiene la capacidad de cambiar su contenido en cualquier momento; puedes agregar nuevos objetos, eliminar los que ya no necesitas o reorganizar su interior. En Python, esta caja mágica es lo que llamamos una **lista**.\n",
    "\n",
    "> **Definición Formal:**\n",
    "> Una **lista** en Python es una estructura de datos **ordenada** y **mutable** que puede contener una colección de elementos, los cuales pueden ser de diferentes tipos (enteros, cadenas, booleanos, otras listas, etc.).\n",
    "\n",
    "### Características Clave\n",
    "\n",
    "1.  **Ordenadas:** Mantienen el orden de los elementos tal y como fueron agregados.\n",
    "2.  **Mutables:** Puedes modificar su contenido (agregar, eliminar, cambiar) sin crear una nueva lista.\n",
    "3.  **Indexadas:** Cada elemento tiene una posición (índice) que permite acceder a él.\n",
    "4.  **Heterogéneas:** Pueden contener elementos de diferentes tipos.\n",
    "\n",
    "### Analogía Creativa: La Lista como un Tren 🚂\n",
    "\n",
    "Imagina una lista como un tren compuesto por varios vagones. Cada vagón (elemento) tiene un número (índice) y puede contener cualquier cosa: pasajeros, carga, incluso otros vagones (listas anidadas). Puedes:\n",
    "\n",
    "-   **Acceder** a un vagón específico usando su número.\n",
    "-   **Agregar** o **eliminar** vagones en cualquier posición.\n",
    "-   **Reordenar** los vagones según tus necesidades."
   ]
  },
  {
   "attachments": {},
   "cell_type": "markdown",
   "metadata": {},
   "source": [
    "### 1. Creación de Listas\n",
    "\n",
    "Puedes crear listas de varias formas:\n",
    "\n",
    "**1.1. Lista Vacía o con Elementos**\n",
    "\n",
    "```python\n",
    "# Lista vacía\n",
    "lista_vacia = []\n",
    "\n",
    "# Lista de números\n",
    "numeros = [1, 2, 3, 4, 5]\n",
    "\n",
    "# Lista de cadenas (strings)\n",
    "nombres = [\"Ana\", \"Luis\", \"Maria\"]\n",
    "\n",
    "# Lista mixta (heterogénea)\n",
    "mixta = [10, \"Hola\", True, 3.14]\n",
    "```\n",
    "\n",
    "**1.2. Usando la Función `list()`**\n",
    "\n",
    "Puedes convertir otros iterables (como cadenas de texto) en listas."
   ]
  },
  {
   "cell_type": "code",
   "execution_count": null,
   "metadata": {},
   "outputs": [],
   "source": [
    "# Convertir en lista la cadena 'Hola'\n",
    "cadena = 'Hola'\n",
    "\n",
    "# Escribe tu código aquí para convertir 'cadena' en una lista\n",
    "lista_de_cadena = list(cadena)\n",
    "\n",
    "# Imprime la variable 'lista_de_cadena'\n",
    "print (lista_de_cadena)\n"
   ]
  },
  {
   "attachments": {},
   "cell_type": "markdown",
   "metadata": {},
   "source": [
    "### 2. Acceso a Elementos (Indexación)\n",
    "\n",
    "Puedes acceder a los elementos de una lista usando sus índices (posiciones). \n",
    "\n",
    "⚠️ **¡Atención!** La indexación en Python siempre **comienza en 0**.\n",
    "\n",
    "```\n",
    "   Lista: [\"manzana\", \"banana\", \"cereza\", \"naranja\"]\n",
    " Índices:      0          1          2          3\n",
    "Índices (-):    -4         -3         -2         -1\n",
    "```"
   ]
  },
  {
   "cell_type": "code",
   "execution_count": 78,
   "metadata": {},
   "outputs": [
    {
     "name": "stdout",
     "output_type": "stream",
     "text": [
      "manzana\n",
      "El primer elementos es: manzana\n",
      "El tercer elementos es: cereza\n",
      "El último elementos es: naranja\n",
      "['manzana', 'banana', 'cereza', 'naranja']\n"
     ]
    }
   ],
   "source": [
    "# Trabajemos con esta lista\n",
    "#             0          1        2          3\n",
    "frutas = [\"manzana\", \"banana\", \"cereza\", \"naranja\"]\n",
    "#            -4       -3          -2        -1\n",
    "\n",
    "# Acceder al primer elemento (índice 0)\n",
    "# Escribe tu código aquí\n",
    "print(frutas[0])\n",
    "print(f'El primer elementos es: {frutas[0]}')\n",
    "\n",
    "# Acceder al tercer elemento (índice 2)\n",
    "# Escribe tu código aquí\n",
    "print(f'El tercer elementos es: {frutas[2]}')\n",
    "\n",
    "\n",
    "# Acceder al último elemento (índice -1)\n",
    "# Escribe tu código aquí\n",
    "print(f'El último elementos es: {frutas[-1]}')\n",
    "\n",
    "#Toda la lista\n",
    "print(frutas)\n",
    "\n"
   ]
  },
  {
   "attachments": {},
   "cell_type": "markdown",
   "metadata": {},
   "source": [
    "### 3. Modificación de Elementos (Mutabilidad 🔄)\n",
    "\n",
    "Al ser mutables, puedes cambiar los valores de los elementos existentes."
   ]
  },
  {
   "cell_type": "code",
   "execution_count": 79,
   "metadata": {},
   "outputs": [
    {
     "name": "stdout",
     "output_type": "stream",
     "text": [
      "Lista original: ['manzana', 'banana', 'cereza', 'naranja']\n",
      "Lista modificada: ['manzana', 'kiwi', 'cereza', 'naranja']\n"
     ]
    }
   ],
   "source": [
    "frutas = [\"manzana\", \"banana\", \"cereza\", \"naranja\"] # Reiniciamos la lista\n",
    "print(f\"Lista original: {frutas}\")\n",
    "\n",
    "# Modificar la 'banana' (índice 1) por 'kiwi'\n",
    "# Escribe tu código aquí\n",
    "frutas[1] = 'kiwi'\n",
    "\n",
    "# Imprime la lista modificada\n",
    "print(f\"Lista modificada: {frutas}\")"
   ]
  },
  {
   "attachments": {},
   "cell_type": "markdown",
   "metadata": {},
   "source": [
    "### 4. Slicing (Segmentación 🔪)\n",
    "\n",
    "Puedes obtener sublistas (nuevas listas) usando la notación de slicing.\n",
    "\n",
    "**Sintaxis:** `lista[inicio:fin:paso]`\n",
    "-   `inicio`: (Incluido) El índice donde comienza el corte.\n",
    "-   `fin`: (Excluido) El índice donde termina el corte.\n",
    "-   `paso`: El intervalo (opcional)."
   ]
  },
  {
   "cell_type": "code",
   "execution_count": 80,
   "metadata": {},
   "outputs": [
    {
     "name": "stdout",
     "output_type": "stream",
     "text": [
      "[2, 3, 4]\n",
      "[0, 1, 2]\n",
      "[6, 7, 8, 9]\n",
      "[0, 1, 2, 3, 4, 5, 6, 7, 8, 9]\n",
      "[0, 2, 4, 6, 8]\n",
      "[9, 8, 7, 6, 5, 4, 3, 2, 1, 0]\n"
     ]
    }
   ],
   "source": [
    "numeros = [0, 1, 2, 3, 4, 5, 6, 7, 8, 9]\n",
    "\n",
    "# Obtener los elementos del índice 2 al 4 (o sea, 2, 3, 4)\n",
    "# Escribe tu código aquí\n",
    "print(numeros[2:5])\n",
    "\n",
    "# Obtener los primeros 3 elementos\n",
    "# Escribe tu código aquí\n",
    "#print(numeros[0:3])\n",
    "print(numeros[:3])\n",
    "\n",
    "# Obtener desde el índice 6 hasta el final\n",
    "# Escribe tu código aquí\n",
    "print(numeros[6:])\n",
    "\n",
    "# Obtener una copia de toda la lista\n",
    "# Escribe tu código aquí\n",
    "print(numeros[:])\n",
    "\n",
    "# Obtener cada segundo elemento\n",
    "# Escribe tu código aquí\n",
    "print(numeros[::2])\n",
    "\n",
    "# Obtener la lista en orden inverso\n",
    "# Escribe tu código aquí\n",
    "print(numeros[::-1])\n",
    "# Asi ordena un lista desendente - ojo -------------------------------\n",
    "\n"
   ]
  },
  {
   "attachments": {},
   "cell_type": "markdown",
   "metadata": {},
   "source": [
    "### 5. Operaciones Básicas con Listas\n",
    "\n",
    "**Concatenación (`+`):** Une dos listas."
   ]
  },
  {
   "cell_type": "code",
   "execution_count": 81,
   "metadata": {},
   "outputs": [
    {
     "name": "stdout",
     "output_type": "stream",
     "text": [
      "[4, 5, 6, 1, 2, 3]\n"
     ]
    }
   ],
   "source": [
    "lista1 = [1, 2, 3]\n",
    "lista2 = [4, 5, 6]\n",
    "\n",
    "# Concatenar las dos listas e imprimir el resultado\n",
    "# Escribe tu código aquí\n",
    "lista_final = lista2 + lista1\n",
    "print(lista_final)"
   ]
  },
  {
   "attachments": {},
   "cell_type": "markdown",
   "metadata": {},
   "source": [
    "**Repetición (`*`):** Repite el contenido de una lista."
   ]
  },
  {
   "cell_type": "code",
   "execution_count": 82,
   "metadata": {},
   "outputs": [
    {
     "name": "stdout",
     "output_type": "stream",
     "text": [
      "[1, 2, 3, 1, 2, 3, 1, 2, 3]\n"
     ]
    }
   ],
   "source": [
    "lista1 = [1, 2, 3]\n",
    "\n",
    "# Repetir la lista1 tres veces e imprimir el resultado\n",
    "# Escribe tu código aquí\n",
    "lista_repetida = lista1 * 3\n",
    "\n",
    "print(lista_repetida)\n",
    "\n"
   ]
  },
  {
   "attachments": {},
   "cell_type": "markdown",
   "metadata": {},
   "source": [
    "### 6. Métodos Comunes (La Caja de Herramientas 🧰)\n",
    "\n",
    "Los métodos son funciones que \"pertenecen\" a la lista y modifican su contenido *in-place* (en el sitio).\n",
    "\n"
   ]
  },
  {
   "cell_type": "code",
   "execution_count": 83,
   "metadata": {
    "tags": []
   },
   "outputs": [
    {
     "name": "stdout",
     "output_type": "stream",
     "text": [
      "Lista inicial: ['manzana', 'banana', 'cereza']\n"
     ]
    }
   ],
   "source": [
    "# Empecemos con una lista fresca\n",
    "frutas = [\"manzana\", \"banana\", \"cereza\"]\n",
    "print(f\"Lista inicial: {frutas}\")"
   ]
  },
  {
   "attachments": {},
   "cell_type": "markdown",
   "metadata": {},
   "source": [
    "**6.1. Agregar Elementos**\n",
    "\n",
    "-   **`.append(elemento)`:** Añade un elemento al **final** de la lista."
   ]
  },
  {
   "cell_type": "code",
   "execution_count": 84,
   "metadata": {},
   "outputs": [
    {
     "name": "stdout",
     "output_type": "stream",
     "text": [
      "['manzana', 'banana', 'cereza', 'naranja']\n"
     ]
    }
   ],
   "source": [
    "# Añade \"naranja\" al final de la lista 'frutas'\n",
    "# Escribe tu código aquí\n",
    "frutas.append('naranja')\n",
    "\n",
    "# Imprime la lista 'frutas' para ver el cambio\n",
    "print(frutas)"
   ]
  },
  {
   "attachments": {},
   "cell_type": "markdown",
   "metadata": {},
   "source": [
    "-   **`.insert(índice, elemento)`:** Inserta un elemento en una posición específica."
   ]
  },
  {
   "cell_type": "code",
   "execution_count": 85,
   "metadata": {},
   "outputs": [
    {
     "name": "stdout",
     "output_type": "stream",
     "text": [
      "['manzana', 'kiwi', 'banana', 'cereza', 'naranja']\n"
     ]
    }
   ],
   "source": [
    "# Insertar 'kiwi' en la posición 1 de 'frutas'\n",
    "# Escribe tu código aquí\n",
    "#      0           1       2           3 \n",
    "# ['manzana', 'banana', 'cereza', 'naranja']\n",
    "\n",
    "frutas.insert(1,'kiwi')\n",
    "# Imprime la lista 'frutas' para ver el cambio\n",
    "print(frutas)"
   ]
  },
  {
   "attachments": {},
   "cell_type": "markdown",
   "metadata": {},
   "source": [
    "-   **`.extend(iterable)`:** Extiende la lista con elementos de otro iterable (como otra lista)."
   ]
  },
  {
   "cell_type": "code",
   "execution_count": 86,
   "metadata": {},
   "outputs": [
    {
     "name": "stdout",
     "output_type": "stream",
     "text": [
      "['manzana', 'kiwi', 'banana', 'cereza', 'naranja', 'uva', 'sandia']\n"
     ]
    }
   ],
   "source": [
    "mas_frutas = [\"uva\", \"sandia\"]\n",
    "\n",
    "# Extiende la lista 'frutas' con 'mas_frutas'\n",
    "# Escribe tu código aquí\n",
    "# frutas = frutas + mas_frutas\n",
    "\n",
    "frutas.extend(mas_frutas)\n",
    "\n",
    "# Imprime la lista 'frutas' para ver el cambio\n",
    "print(frutas)"
   ]
  },
  {
   "attachments": {},
   "cell_type": "markdown",
   "metadata": {},
   "source": [
    "**6.2. Eliminar Elementos**\n",
    "\n",
    "-   **`.remove(elemento)`:** Elimina el **primer** elemento que coincida con el valor especificado."
   ]
  },
  {
   "cell_type": "code",
   "execution_count": 87,
   "metadata": {},
   "outputs": [
    {
     "name": "stdout",
     "output_type": "stream",
     "text": [
      "['manzana', 'kiwi', 'banana', 'cereza', 'naranja', 'uva', 'sandia']\n",
      "['manzana', 'banana', 'cereza', 'naranja', 'uva', 'sandia']\n"
     ]
    }
   ],
   "source": [
    "# Eliminar 'kiwi' de la lista 'frutas'\n",
    "# Escribe tu código aquí\n",
    "print(frutas)\n",
    "\n",
    "frutas.remove('kiwi')\n",
    "\n",
    "\n",
    "# Imprime la lista 'frutas' para ver el cambio\n",
    "print(frutas)"
   ]
  },
  {
   "attachments": {},
   "cell_type": "markdown",
   "metadata": {},
   "source": [
    "-   **`.pop(índice)`:** Elimina y **devuelve** el elemento en el índice especificado. Si no se especifica índice, elimina el último."
   ]
  },
  {
   "cell_type": "code",
   "execution_count": 88,
   "metadata": {},
   "outputs": [
    {
     "name": "stdout",
     "output_type": "stream",
     "text": [
      "Lista antes de .pop() ['manzana', 'banana', 'cereza', 'naranja', 'uva', 'sandia']\n",
      "Elemento eliminado: sandia\n",
      "Lista actual: ['manzana', 'banana', 'cereza', 'naranja', 'uva']\n",
      "Elemento eliminado: manzana\n",
      "Lista actual: ['banana', 'cereza', 'naranja', 'uva']\n"
     ]
    }
   ],
   "source": [
    "# Eliminar el último elemento de 'frutas' y guardarlo en una variable 'eliminada'\n",
    "# Escribe tu código aquí\n",
    "print(f'Lista antes de .pop() {frutas}')\n",
    "eliminado = frutas.pop(-1)\n",
    "print(f'Elemento eliminado: {eliminado}')\n",
    "print(f'Lista actual: {frutas}')\n",
    "\n",
    "# Eliminar el elemento en el índice 0 de 'frutas' y guardarlo en 'eliminada_2'\n",
    "# Escribe tu código aquí\n",
    "eliminada_2 = frutas.pop(0)\n",
    "# Imprime 'eliminada_2' y la lista 'frutas' actual\n",
    "print(f\"Elemento eliminado: {eliminada_2}\")\n",
    "print(f\"Lista actual: {frutas}\")"
   ]
  },
  {
   "attachments": {},
   "cell_type": "markdown",
   "metadata": {},
   "source": [
    "-   **`.clear()`:** Elimina **todos** los elementos de la lista."
   ]
  },
  {
   "cell_type": "code",
   "execution_count": 89,
   "metadata": {},
   "outputs": [
    {
     "name": "stdout",
     "output_type": "stream",
     "text": [
      "Copia antes de limpiar: ['banana', 'cereza', 'naranja', 'uva']\n",
      "Copia después de limpiar: []\n"
     ]
    }
   ],
   "source": [
    "copia_frutas = frutas.copy() # Hacemos una copia para no perder la lista\n",
    "print(f\"Copia antes de limpiar: {copia_frutas}\")\n",
    "\n",
    "# Limpia todos los elementos de 'copia_frutas'\n",
    "# Escribe tu código aquí\n",
    "copia_frutas.clear()\n",
    "\n",
    "\n",
    "# Imprime 'copia_frutas' para ver que está vacía\n",
    "print(f\"Copia después de limpiar: {copia_frutas}\")"
   ]
  },
  {
   "attachments": {},
   "cell_type": "markdown",
   "metadata": {},
   "source": [
    "### 7. Ordenar: `sort()` vs. `sorted()` (¡Punto Clave! ⚠️)\n",
    "\n",
    "Esta es una de las confusiones más comunes.\n",
    "\n",
    "**7.1. Método `.sort()` (Modifica *in-place*)**\n",
    "Modifica la lista original y no devuelve nada (devuelve `None`)."
   ]
  },
  {
   "cell_type": "code",
   "execution_count": 90,
   "metadata": {},
   "outputs": [
    {
     "name": "stdout",
     "output_type": "stream",
     "text": [
      "Original: [3, 1, 4, 1, 5, 9, 2]\n",
      "Modificada: [1, 1, 2, 3, 4, 5, 9]\n",
      "Reversa: [9, 5, 4, 3, 2, 1, 1]\n"
     ]
    }
   ],
   "source": [
    "numeros = [3, 1, 4, 1, 5, 9, 2]\n",
    "print(f\"Original: {numeros}\")\n",
    "\n",
    "# Ordena la lista 'numeros' directamente\n",
    "# Escribe tu código aquí\n",
    "numeros.sort()\n",
    "\n",
    "# Imprime 'numeros' para ver el cambio\n",
    "print(f\"Modificada: {numeros}\")\n",
    "\n",
    "# Ordena la lista 'numeros' en reversa\n",
    "# Escribe tu código aquí\n",
    "numeros.sort(reverse=True)\n",
    "\n",
    "# Imprime 'numeros' de nuevo\n",
    "print(f\"Reversa: {numeros}\")"
   ]
  },
  {
   "attachments": {},
   "cell_type": "markdown",
   "metadata": {},
   "source": [
    "**7.2. Función `sorted()` (Crea una lista nueva)**\n",
    "✅ Es la forma más segura y preferida si quieres conservar la lista original. **Devuelve una nueva lista** ordenada."
   ]
  },
  {
   "cell_type": "code",
   "execution_count": 91,
   "metadata": {
    "tags": []
   },
   "outputs": [
    {
     "name": "stdout",
     "output_type": "stream",
     "text": [
      "Original: [3, 1, 4, 1, 5, 9, 2]\n",
      "Original (intacta): [3, 1, 4, 1, 5, 9, 2]\n",
      "Nueva lista ordenada: [1, 1, 2, 3, 4, 5, 9]\n"
     ]
    }
   ],
   "source": [
    "numeros = [3, 1, 4, 1, 5, 9, 2]\n",
    "print(f\"Original: {numeros}\")\n",
    "\n",
    "# Crea una nueva lista 'lista_ordenada' usando sorted()\n",
    "# Escribe tu código aquí\n",
    "lista_ordenada = sorted(numeros)\n",
    "\n",
    "# Imprime la lista 'numeros' (debe estar intacta)\n",
    "# Imprime la 'lista_ordenada'\n",
    "print(f\"Original (intacta): {numeros}\")\n",
    "print(f\"Nueva lista ordenada: {lista_ordenada}\")"
   ]
  },
  {
   "attachments": {},
   "cell_type": "markdown",
   "metadata": {},
   "source": [
    "### 8. Pausa: Ejecución Condicional (`if`, `elif`, `else`) 🚦\n",
    "\n",
    "Antes de seguir, necesitamos una herramienta clave: la capacidad de tomar decisiones. Para esto usamos los condicionales.\n",
    "\n",
    "Imagina un semáforo:\n",
    "-   `if` (si): Si la condición es Verdadera, ejecuta este bloque.\n",
    "-   `elif` (si no, si): Si la primera condición fue Falsa, revisa esta *otra* condición.\n",
    "-   `else` (si no): Si *ninguna* de las condiciones anteriores fue Verdadera, ejecuta este bloque.\n"
   ]
  },
  {
   "cell_type": "code",
   "execution_count": null,
   "metadata": {},
   "outputs": [],
   "source": [
    "# (Esta celda es solo para ejecutar y entender)\n",
    "\n",
    "temperatura = 28\n",
    "\n",
    "if temperatura > 25:\n",
    "    print(\"Es un día caluroso.\")\n",
    "elif temperatura < 15:\n",
    "    print(\"Es un día frío.\")\n",
    "else:\n",
    "    print(\"Es un día templado.\")\n",
    "\n",
    "# Ejemplo solo con 'if'\n",
    "edad = 19\n",
    "if edad >= 18:\n",
    "    print(\"Es mayor de edad.\")"
   ]
  },
  {
   "attachments": {},
   "cell_type": "markdown",
   "metadata": {},
   "source": [
    "### 9. Iteración sobre Listas (Bucles)\n",
    "\n",
    "Para procesar los elementos de una lista, usamos bucles.\n",
    "\n",
    "**9.1. Usando un Bucle `for` (El más común)**\n",
    "Itera sobre cada elemento de la lista directamente."
   ]
  },
  {
   "cell_type": "code",
   "execution_count": 92,
   "metadata": {},
   "outputs": [
    {
     "name": "stdout",
     "output_type": "stream",
     "text": [
      "Ana\n",
      "Luis\n",
      "María\n"
     ]
    }
   ],
   "source": [
    "nombres = ['ana', 'luis', 'maría']\n",
    "\n",
    "# Itera sobre 'nombres' e imprime cada nombre con la primera letra en mayúscula\n",
    "# Pista: usa .capitalize()\n",
    "# Escribe tu bucle 'for' aquí\n",
    "\n",
    "for nombre in nombres:\n",
    "    print(nombre.capitalize())  "
   ]
  },
  {
   "attachments": {},
   "cell_type": "markdown",
   "metadata": {},
   "source": [
    "**9.2. Iterando con Índice y Valor: `enumerate()`**\n",
    "✅ Muy útil en análisis de datos cuando necesitas la posición (índice) Y el valor."
   ]
  },
  {
   "cell_type": "code",
   "execution_count": 93,
   "metadata": {},
   "outputs": [
    {
     "name": "stdout",
     "output_type": "stream",
     "text": [
      "En el vagón (índice) 0 está la fruta: manzana\n",
      "En el vagón (índice) 1 está la fruta: kiwi\n",
      "En el vagón (índice) 2 está la fruta: cereza\n"
     ]
    }
   ],
   "source": [
    "frutas = ['manzana', 'kiwi', 'cereza']\n",
    "\n",
    "# Itera sobre 'frutas' usando 'enumerate'\n",
    "# Imprime \"En el vagón (índice) X está la fruta: Y\"\n",
    "# Escribe tu bucle 'for' aquí\n",
    "for indice, fruta in enumerate(frutas):\n",
    "    print(f\"En el vagón (índice) {indice} está la fruta: {fruta}\")  \n"
   ]
  },
  {
   "attachments": {},
   "cell_type": "markdown",
   "metadata": {},
   "source": [
    "**9.3. Usando un Bucle `while`**\n",
    "Funciona con una condición. Es menos común para iterar listas, pero es posible."
   ]
  },
  {
   "cell_type": "code",
   "execution_count": 94,
   "metadata": {},
   "outputs": [
    {
     "name": "stdout",
     "output_type": "stream",
     "text": [
      "5\n",
      "Elemento numero: 0\n",
      "Elemento numero: 1\n",
      "Elemento numero: 2\n",
      "Elemento numero: 3\n",
      "Elemento numero: 4\n"
     ]
    }
   ],
   "source": [
    "numeros = [0, 1, 2, 3, 4]\n",
    "\n",
    "# Escribe un bucle 'while' que imprima cada elemento de 'numeros'\n",
    "# No olvides: 1. Inicializar, 2. Condición, 3. Incrementar\n",
    "print(len(numeros))\n",
    "i = 0 # 1. Inicializar\n",
    "# Escribe tu bucle 'while' aquí\n",
    "\n",
    "while i < len(numeros): \n",
    "    print(f'Elemento numero: {i}')\n",
    "    i += 1    \n"
   ]
  },
  {
   "attachments": {},
   "cell_type": "markdown",
   "metadata": {},
   "source": [
    "**9.4. Comprobación de Pertenencia (`in`)**\n",
    "Puedes verificar si un elemento existe en una lista (devuelve `True` o `False`)."
   ]
  },
  {
   "cell_type": "code",
   "execution_count": 95,
   "metadata": {},
   "outputs": [
    {
     "name": "stdout",
     "output_type": "stream",
     "text": [
      "True\n",
      "False\n"
     ]
    }
   ],
   "source": [
    "frutas = ['manzana', 'kiwi', 'cereza']\n",
    "\n",
    "# Imprime si 'kiwi' está en la lista 'frutas'\n",
    "# Escribe tu código aquí\n",
    "print('kiwi' in frutas)\n",
    "\n",
    "# Imprime si 'naranja' está en la lista 'frutas'\n",
    "# Escribe tu código aquí\n",
    "print('naranja' in frutas)\n"
   ]
  },
  {
   "attachments": {},
   "cell_type": "markdown",
   "metadata": {},
   "source": [
    "### 10. El Súper-poder de Python: *List Comprehensions* ⚡\n",
    "\n",
    "Esta es la forma \"Pythonica\" (eficiente y legible) de crear, filtrar y transformar listas. Es un bucle `for` y (opcionalmente) un `if` en una sola línea.\n",
    "\n",
    "**Sintaxis:** `[<expresion> for <item> in <iterable> if <condicion>]`"
   ]
  },
  {
   "cell_type": "code",
   "execution_count": 100,
   "metadata": {},
   "outputs": [
    {
     "name": "stdout",
     "output_type": "stream",
     "text": [
      "Con comp:   [1, 4, 9, 16, 25]\n",
      "Pares: [2, 4, 6, 8]\n"
     ]
    }
   ],
   "source": [
    "# Ejemplo 1: Transformación (Obtener los cuadrados)\n",
    "numeros = [1, 2, 3, 4, 5]\n",
    "\n",
    "# Escribe una List Comprehension para crear 'cuadrados_comp'\n",
    "#cuadrados_comp = [num ** 2 for num in numeros]\n",
    "cuadrados_comp = []\n",
    "for num in numeros:\n",
    "    cuadrados_comp.append(num ** 2)\n",
    "\n",
    "print(f\"Con comp:   {cuadrados_comp}\")\n",
    "\n",
    "# Ejemplo 2: Filtrado (Obtener solo los números pares)\n",
    "numeros = [1, 2, 3, 4, 5, 6, 7, 8]\n",
    "\n",
    "# Escribe una List Comprehension para crear 'pares'\n",
    "pares = [num for num in numeros if num % 2 == 0]\n",
    "\n",
    "print(f\"Pares: {pares}\")"
   ]
  },
  {
   "attachments": {},
   "cell_type": "markdown",
   "metadata": {},
   "source": [
    "### 11. Copiando Listas (El Espejismo 👥)\n",
    "\n",
    "**11.1. Asignación Directa (¡Cuidado! ⚠️)**\n",
    "Esto **NO** crea una copia. Ambas variables apuntan a la **misma** lista en memoria. Si modificas una, modificas la otra."
   ]
  },
  {
   "cell_type": "code",
   "execution_count": null,
   "metadata": {},
   "outputs": [
    {
     "name": "stdout",
     "output_type": "stream",
     "text": [
      "Copia Mala: [1, 2, 3, 4]\n",
      "Original:    [1, 2, 3, 4]\n"
     ]
    }
   ],
   "source": [
    "# (Esta celda es solo para ejecutar y entender)\n",
    "\n",
    "lista_original = [1, 2, 3]\n",
    "lista_copia_mala = lista_original\n",
    "\n",
    "lista_copia_mala.append(4)\n",
    "\n",
    "print(f\"Copia Mala: {lista_copia_mala}\")\n",
    "print(f\"Original:    {lista_original}\") # ¡La original también cambió!"
   ]
  },
  {
   "attachments": {},
   "cell_type": "markdown",
   "metadata": {},
   "source": [
    "**11.2. Copia Superficial (Shallow Copy) ✅**\n",
    "Crea una nueva lista, pero si contiene objetos mutables (como otras listas), esos objetos internos *no* se copian.\n",
    "\n",
    "**Formas de hacerla:**\n",
    "1.  `lista_copia = lista_original.copy()`\n",
    "2.  `lista_copia = lista_original[:]` (usando slicing)"
   ]
  },
  {
   "cell_type": "code",
   "execution_count": 101,
   "metadata": {
    "tags": []
   },
   "outputs": [
    {
     "name": "stdout",
     "output_type": "stream",
     "text": [
      "Copia Buena: [1, 2, 3, 4]\n",
      "Original:      [1, 2, 3]\n"
     ]
    }
   ],
   "source": [
    "# (Esta celda es solo para ejecutar y entender)\n",
    "\n",
    "lista_original = [1, 2, 3]\n",
    "lista_copia_buena = lista_original.copy()\n",
    "lista_copia_buena = lista_original[:]\n",
    "\n",
    "lista_copia_buena.append(4)\n",
    "\n",
    "print(f\"Copia Buena: {lista_copia_buena}\")\n",
    "print(f\"Original:      {lista_original}\") # ¡La original está intacta!"
   ]
  },
  {
   "attachments": {},
   "cell_type": "markdown",
   "metadata": {},
   "source": [
    "**11.3. Copia Profunda (Deep Copy)**\n",
    "Copia completamente independiente, incluso para objetos mutables anidados (listas dentro de listas). Necesita la librería `copy`."
   ]
  },
  {
   "cell_type": "code",
   "execution_count": null,
   "metadata": {},
   "outputs": [],
   "source": [
    "# (Esta celda es solo para ejecutar y entender)\n",
    "\n",
    "import copy\n",
    "\n",
    "lista_anidada_original = [[1, 2], [3, 4]]\n",
    "lista_copia_profunda = copy.deepcopy(lista_anidada_original)\n",
    "\n",
    "lista_copia_profunda[0][0] = 99\n",
    "\n",
    "print(f\"Copia Profunda: {lista_copia_profunda}\")\n",
    "print(f\"Original Anidada: {lista_anidada_original}\") # ¡Intacta!"
   ]
  },
  {
   "attachments": {},
   "cell_type": "markdown",
   "metadata": {},
   "source": [
    "### 12. Listas Anidadas (Matrices 🎛️)\n",
    "\n",
    "Las listas pueden contener otras listas. Para acceder a sus elementos, se usan índices dobles."
   ]
  },
  {
   "cell_type": "code",
   "execution_count": null,
   "metadata": {},
   "outputs": [],
   "source": [
    "lista_anidada = [\n",
    "    [1, 2, 3], # Fila 0\n",
    "    [4, 5, 6], # Fila 1\n",
    "    [7, 8, 9]  # Fila 2\n",
    "]\n",
    "\n",
    "# Acceder al elemento '5' (Fila 1, Columna 1)\n",
    "# Escribe tu código aquí\n",
    "\n",
    "\n",
    "# Acceder al elemento '9' (Fila 2, Columna 2)\n",
    "# Escribe tu código aquí\n",
    "\n"
   ]
  },
  {
   "attachments": {},
   "cell_type": "markdown",
   "metadata": {},
   "source": [
    "### 13. Funciones Integradas Útiles\n",
    "\n",
    "-   `len(lista)`: Devuelve el número de elementos.\n",
    "-   `sum(lista)`: Suma los elementos (si son numéricos).\n",
    "-   `min(lista)`: Devuelve el valor mínimo.\n",
    "-   `max(lista)`: Devuelve el valor máximo."
   ]
  },
  {
   "cell_type": "code",
   "execution_count": 103,
   "metadata": {},
   "outputs": [
    {
     "name": "stdout",
     "output_type": "stream",
     "text": [
      "Tamaño de la lista 6\n",
      "Suma:  21\n",
      "Mínimo:  1\n",
      "Máximo: 6\n"
     ]
    }
   ],
   "source": [
    "numeros = [1, 2, 3, 4, 5, 6]\n",
    "\n",
    "# Imprime la longitud (len) de 'numeros'\n",
    "# Escribe tu código aquí\n",
    "\n",
    "print('Tamaño de la lista', len(numeros))\n",
    "\n",
    "# Imprime la suma (sum) de 'numeros'\n",
    "# Escribe tu código aquí\n",
    "print('Suma: ',sum(numeros)) \n",
    "\n",
    "# Imprime el mínimo (min) de 'numeros'\n",
    "# Escribe tu código aquí\n",
    "print('Mínimo: ', min(numeros))\n",
    "\n",
    "# Imprime el máximo (max) de 'numeros'\n",
    "# Escribe tu código aquí\n",
    "print('Máximo:', max(numeros))\n"
   ]
  },
  {
   "attachments": {},
   "cell_type": "markdown",
   "metadata": {},
   "source": [
    "--- \n",
    "\n",
    "# **Actividad Interactiva: Análisis de Datos Simple con Listas 🌡️**\n",
    "\n",
    "**Objetivo:** Aplicar todos los conceptos aprendidos (listas, funciones, condicionales y bucles) para realizar un análisis de datos sencillo.\n",
    "\n",
    "**Descripción de la Actividad:**\n",
    "\n",
    "Trabajaremos con una lista de temperaturas registradas durante una semana y realizaremos varias operaciones para extraer información útil.\n",
    "\n",
    "### **Paso 1. Creación de la Lista de Datos**\n",
    "\n",
    "Ejecuta la siguiente celda para crear las listas `dias` y `temperaturas`."
   ]
  },
  {
   "cell_type": "code",
   "execution_count": 112,
   "metadata": {},
   "outputs": [
    {
     "name": "stdout",
     "output_type": "stream",
     "text": [
      "7 días registrados.\n",
      "Datos de temperatura: [22, 24, 19, 23, 25, 20, 21]\n"
     ]
    }
   ],
   "source": [
    "# (Esta celda es solo para ejecutar)\n",
    "dias =         [\"Lunes\", \"Martes\", \"Miércoles\", \"Jueves\", \"Viernes\", \"Sábado\", \"Domingo\"]\n",
    "temperaturas = [22,      24,       19,          23,       25,        20,       21]\n",
    "\n",
    "print(f\"{len(dias)} días registrados.\")\n",
    "print(f\"Datos de temperatura: {temperaturas}\")"
   ]
  },
  {
   "attachments": {},
   "cell_type": "markdown",
   "metadata": {},
   "source": [
    "### **Paso 2. Calcular Estadísticas Básicas**\n",
    "\n",
    "Usando las funciones `sum()`, `len()`, `max()` y `min()`, calcula y muestra:\n",
    "1.  La temperatura media de la semana.\n",
    "2.  La temperatura máxima.\n",
    "3.  La temperatura mínima."
   ]
  },
  {
   "cell_type": "code",
   "execution_count": 113,
   "metadata": {},
   "outputs": [
    {
     "name": "stdout",
     "output_type": "stream",
     "text": [
      "Suma: 154.00, Días: 7, Media: 22.00\n",
      "Temperatura Media: 22.00 °C\n",
      "Temperatura Máxima: 25 °C\n",
      "Temperatura Mínima: 19 °C\n"
     ]
    }
   ],
   "source": [
    "# Calcula la suma total de 'temperaturas'\n",
    "suma_temp = sum(temperaturas)\n",
    "\n",
    "# Calcula la cantidad de días (longitud de 'temperaturas')\n",
    "num_dias = len(dias)\n",
    "\n",
    "# Calcula la media (suma / cantidad). Guarda el resultado en 'media_temp'\n",
    "media_temp = (suma_temp / num_dias)\n",
    "print(f\"Suma: {suma_temp:.2f}, Días: {num_dias}, Media: {media_temp:.2f}\")\n",
    "\n",
    "# Encuentra la máxima y mínima. Guarda los resultados en 'temp_max' y 'temp_min'\n",
    "temp_max = max(temperaturas)\n",
    "temp_min = min(temperaturas)\n",
    "\n",
    "# Imprime los resultados (puedes descomentar las líneas de abajo)\n",
    "print(f\"Temperatura Media: {media_temp:.2f} °C\") # .2f formatea a 2 decimales\n",
    "print(f\"Temperatura Máxima: {temp_max} °C\")\n",
    "print(f\"Temperatura Mínima: {temp_min} °C\")\n",
    "\n",
    "# --- Importante --- \n",
    "# Necesitarás la variable 'media_temp' para el siguiente paso. \n",
    "# ¡Asegúrate de que se llame así!"
   ]
  },
  {
   "attachments": {},
   "cell_type": "markdown",
   "metadata": {},
   "source": [
    "### **Paso 3. Análisis Condicional: Días por Encima de la Media**\n",
    "\n",
    "Queremos saber cuántos días y cuáles tuvieron una temperatura *por encima* de la media que calculaste (`media_temp`).\n",
    "\n",
    "**Intenta resolverlo de dos formas:**"
   ]
  },
  {
   "cell_type": "code",
   "execution_count": 116,
   "metadata": {},
   "outputs": [
    {
     "name": "stdout",
     "output_type": "stream",
     "text": [
      "\n",
      "Solución con Bucle 'for':\n",
      "Los días por encima de la media fueron: ['Martes', 'Jueves', 'Viernes']\n",
      "Total de días: 3\n",
      "\n",
      "Solución con List Comprehension:\n",
      "Los días por encima de la media fueron: ['Martes', 'Jueves', 'Viernes']\n"
     ]
    }
   ],
   "source": [
    "# --- Asegúrate de haber ejecutado la celda anterior --- \n",
    "# print(f\"--- Análisis de Días Calurosos (media = {media_temp:.2f} °C) ---\")\n",
    "\n",
    "# Solución 1: Con Bucle 'for', 'if' y 'enumerate'\n",
    "print(\"\\nSolución con Bucle 'for':\")\n",
    "dias_calurosos = []\n",
    "\n",
    "# Escribe un bucle 'for' con 'enumerate' sobre 'temperaturas'\n",
    "# Pista: for i, temp in enumerate(temperaturas):\n",
    "# Dentro del bucle, usa un 'if' para comparar 'temp' con 'media_temp'\n",
    "# Si es mayor, añade el día (usando el índice 'i' de la lista 'dias') a 'dias_calurosos'\n",
    "# Escribe tu código aquí\n",
    "for i, temp in enumerate(temperaturas):\n",
    "    if temp > media_temp:\n",
    "        dias_calurosos.append(dias[i])\n",
    "\n",
    "print(f\"Los días por encima de la media fueron: {dias_calurosos}\")\n",
    "print(f\"Total de días: {len(dias_calurosos)}\")\n",
    "\n",
    "# Solución 2: Con List Comprehension (Avanzado)\n",
    "print(\"\\nSolución con List Comprehension:\")\n",
    "\n",
    "# Escribe una List Comprehension para crear 'dias_calurosos_comp'\n",
    "# Pista: [dias[i] for i, temp in ... if ... > ...]\n",
    "dias_calurosos_comp =  [dias[i] for i, temp in enumerate(temperaturas) if temp > media_temp]\n",
    "\n",
    "print(f\"Los días por encima de la media fueron: {dias_calurosos_comp}\")"
   ]
  },
  {
   "attachments": {},
   "cell_type": "markdown",
   "metadata": {},
   "source": [
    "### **Paso 4. Modificar la Lista y Recalcular**\n",
    "\n",
    "Llegó un nuevo día \"Extra\" con una temperatura de `26`°C.\n",
    "1.  Agrega el nuevo día a la lista `dias`.\n",
    "2.  Agrega la nueva temperatura a la lista `temperaturas`.\n",
    "3.  Recalcula la temperatura media (guárdala en `nueva_media`)."
   ]
  },
  {
   "cell_type": "code",
   "execution_count": 118,
   "metadata": {},
   "outputs": [
    {
     "name": "stdout",
     "output_type": "stream",
     "text": [
      "Datos actualizados (días): ['Lunes', 'Martes', 'Miércoles', 'Jueves', 'Viernes', 'Sábado', 'Domingo', 'Lunes2']\n",
      "Datos actualizados (temp): [22, 24, 19, 23, 25, 20, 21, 26]\n",
      "La nueva temperatura media (con 8 días) es: 22.50 °C\n"
     ]
    }
   ],
   "source": [
    "# 1. Agrega \"Extra\" a la lista 'dias' (usa .append())\n",
    "# Escribe tu código aquí\n",
    "dias.append(\"Lunes2\")\n",
    "\n",
    "# 2. Agrega 26 a la lista 'temperaturas'\n",
    "# Escribe tu código aquí\n",
    "temperaturas.append(26)\n",
    "\n",
    "\n",
    "print(f\"Datos actualizados (días): {dias}\")\n",
    "print(f\"Datos actualizados (temp): {temperaturas}\")\n",
    "\n",
    "# 3. Recalcula la media y guárdala en 'nueva_media'\n",
    "nueva_media = sum(temperaturas) / len(temperaturas)\n",
    "\n",
    "print(f\"La nueva temperatura media (con 8 días) es: {nueva_media:.2f} °C\")\n",
    "\n",
    "# --- Importante --- \n",
    "# Necesitarás la variable 'nueva_media' para el último paso.\n"
   ]
  },
  {
   "attachments": {},
   "cell_type": "markdown",
   "metadata": {},
   "source": [
    "### **Paso 5. Ordenar las Temperaturas**\n",
    "\n",
    "Para ver claramente el rango de temperaturas, crea una **nueva lista** llamada `temp_ordenadas` que contenga las temperaturas ordenadas de mayor a menor, **sin modificar la lista `temperaturas` original** (¡la necesitamos para el gráfico!).\n",
    "\n",
    "Usa la función `sorted()`."
   ]
  },
  {
   "cell_type": "code",
   "execution_count": 120,
   "metadata": {},
   "outputs": [
    {
     "name": "stdout",
     "output_type": "stream",
     "text": [
      "Temperaturas ordenadas (Mayor a Menor): [26, 25, 24, 23, 22, 21, 20, 19]\n",
      "Temperaturas originales (Cronológicas): [22, 24, 19, 23, 25, 20, 21, 26]\n"
     ]
    }
   ],
   "source": [
    "# Usa sorted() para crear una nueva lista 'temp_ordenadas'\n",
    "# que esté ordenada de mayor a menor (pista: reverse=True)\n",
    "temp_ordenadas = temperaturas.copy()\n",
    "temp_ordenadas.sort(reverse=True)\n",
    "\n",
    "print(f\"Temperaturas ordenadas (Mayor a Menor): {temp_ordenadas}\")\n",
    "print(f\"Temperaturas originales (Cronológicas): {temperaturas}\")"
   ]
  },
  {
   "attachments": {},
   "cell_type": "markdown",
   "metadata": {},
   "source": [
    "### **Paso 6. Visualización Simple 📊**\n",
    "\n",
    "¡El paso final del análisis! Si completaste todos los pasos anteriores, las variables `dias`, `temperaturas` y `nueva_media` tendrán los valores correctos.\n",
    "\n",
    "**Simplemente ejecuta la celda de abajo** para visualizar tus resultados. Si el gráfico se ve bien (8 días, con la línea media correcta), ¡lo has logrado!"
   ]
  },
  {
   "cell_type": "code",
   "execution_count": 122,
   "metadata": {},
   "outputs": [
    {
     "data": {
      "image/png": "[encoded data removed]",
      "text/plain": [
       "<Figure size 1000x500 with 1 Axes>"
      ]
     },
     "metadata": {},
     "output_type": "display_data"
    }
   ],
   "source": [
    "# (Esta celda es solo para ejecutar)\n",
    "\n",
    "# Esta línea es necesaria para importar la librería de gráficos\n",
    "import matplotlib.pyplot as plt\n",
    "\n",
    "# Graficamos 'dias' (eje X) vs 'temperaturas' (eje Y)\n",
    "# Usamos la lista 'temperaturas' original, que mantiene el orden cronológico\n",
    "plt.figure(figsize=(10, 5)) # Tamaño del gráfico\n",
    "plt.plot(dias, temperaturas, marker='o', linestyle='--')\n",
    "\n",
    "# Añadir una línea horizontal para la media\n",
    "plt.axhline(y=nueva_media, color='r', linestyle=':', label=f\"Media ({nueva_media:.2f}°C)\")\n",
    "\n",
    "# Títulos y etiquetas\n",
    "plt.title('Temperaturas Semanales')\n",
    "plt.xlabel('Días')\n",
    "plt.ylabel('Temperatura (°C)')\n",
    "plt.legend() # Muestra la leyenda (para la línea media)\n",
    "plt.grid(True) # Añade una cuadrícula\n",
    "plt.show() # Muestra el gráfico"
   ]
  }
 ],
 "metadata": {
  "kernelspec": {
   "display_name": "Python 3",
   "language": "python",
   "name": "python3"
  },
  "language_info": {
   "codemirror_mode": {
    "name": "ipython",
    "version": 3
   },
   "file_extension": ".py",
   "mimetype": "text/x-python",
   "name": "python",
   "nbconvert_exporter": "python",
   "pygments_lexer": "ipython3",
   "version": "3.13.7"
  }
 },
 "nbformat": 4,
 "nbformat_minor": 2
}
